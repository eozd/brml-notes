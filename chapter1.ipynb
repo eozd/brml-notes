{
 "cells": [
  {
   "cell_type": "markdown",
   "metadata": {},
   "source": [
    "## Formulas"
   ]
  },
  {
   "cell_type": "markdown",
   "metadata": {},
   "source": [
    "### Conditional Probability\n",
    "\n",
    "$$\n",
    "p(x \\mid y) = \\frac{p(x, y)}{p(y)}\n",
    "$$"
   ]
  },
  {
   "cell_type": "markdown",
   "metadata": {},
   "source": [
    "### Bayes' Rule\n",
    "\n",
    "$$\n",
    "\\begin{align}\n",
    "p(x \\mid y) &= \\frac{p(y \\mid x)p(x)}{p(y)} \\\\\n",
    "            &= \\frac{p(y \\mid x)p(x)}{\\int_x p(y \\mid x)p(x)}\n",
    "\\end{align}\n",
    "$$\n",
    "\n",
    "Posterior, likelihood and prior:\n",
    "\n",
    "$$\n",
    "Posterior = \\frac{Likelihood \\cdot Prior}{Normalizer}\n",
    "$$"
   ]
  },
  {
   "cell_type": "markdown",
   "metadata": {},
   "source": [
    "### Frequentist Perspective on Probability\n",
    "If we were to repeat the same experiment many times, in the limit, the frequency of the event would approach the given probability.\n",
    "\n",
    "### Bayesian Perspective on Probability\n",
    "Probability is a reasonable guess based on our degree of belief about the environment."
   ]
  },
  {
   "cell_type": "markdown",
   "metadata": {},
   "source": [
    "### Independence\n",
    "$$\n",
    "\\text{x and y are independent} \\iff p(x, y) = kf(x)g(y)\n",
    "$$"
   ]
  },
  {
   "cell_type": "markdown",
   "metadata": {},
   "source": [
    "### Conditional Independence"
   ]
  },
  {
   "cell_type": "markdown",
   "metadata": {},
   "source": [
    "$ \\newcommand{\\ci}{\\perp\\!\\!\\perp} $\n",
    "\n",
    "$$\n",
    "X \\ci Y \\mid Z\n",
    "$$\n",
    "\n",
    "denotes that random variables $X$ and $Y$ are independent provided that we know the state of $Z$.\n",
    "\n",
    "$$\n",
    "X \\ci Y \\mid Z \\iff p(X, Y \\mid Z) = p(X \\mid Z)p(Y \\mid Z)\n",
    "$$\n",
    "\n",
    "1. If $Z = \\varnothing$, then $X$ and $Y$ are (unconditionally) independent.\n",
    "2. It may be the case that $X$ and $Y$ are not independent, but $X$ and $Y$ are conditionally independent given $Z$.\n",
    "\n",
    "See https://www.eecs.qmul.ac.uk/~norman/BBNs/Independence_and_conditional_independence.htm for examples on conditional independence."
   ]
  },
  {
   "cell_type": "markdown",
   "metadata": {},
   "source": [
    "## Probability Tables Example"
   ]
  },
  {
   "cell_type": "code",
   "execution_count": 22,
   "metadata": {},
   "outputs": [],
   "source": [
    "# Country probabilities\n",
    "cnt = np.array([0.88, 0.08, 0.04])\n",
    "# Mother tongue given country probabilities\n",
    "mt_given_cnt = np.array([[.95, .7, .6],\n",
    "                         [.04, .3, .0],\n",
    "                         [.01, .0, .4]])"
   ]
  },
  {
   "cell_type": "code",
   "execution_count": 18,
   "metadata": {},
   "outputs": [
    {
     "data": {
      "text/plain": [
       "array([[ 0.836 ,  0.056 ,  0.024 ],\n",
       "       [ 0.0352,  0.024 ,  0.    ],\n",
       "       [ 0.0088,  0.    ,  0.016 ]])"
      ]
     },
     "execution_count": 18,
     "metadata": {},
     "output_type": "execute_result"
    }
   ],
   "source": [
    "# Matrix containing the joint probabilities at its each entry\n",
    "# This is not a matrix product\n",
    "cnt_and_mt = mt_given_cnt*cnt\n",
    "cnt_and_mt"
   ]
  },
  {
   "cell_type": "code",
   "execution_count": 20,
   "metadata": {},
   "outputs": [
    {
     "data": {
      "text/plain": [
       "array([ 0.88,  0.08,  0.04])"
      ]
     },
     "execution_count": 20,
     "metadata": {},
     "output_type": "execute_result"
    }
   ],
   "source": [
    "# Sum over the mother tongues to get country probabilities\n",
    "np.sum(cnt_and_mt, axis=0)"
   ]
  },
  {
   "cell_type": "code",
   "execution_count": 21,
   "metadata": {},
   "outputs": [
    {
     "data": {
      "text/plain": [
       "array([ 0.916 ,  0.0592,  0.0248])"
      ]
     },
     "execution_count": 21,
     "metadata": {},
     "output_type": "execute_result"
    }
   ],
   "source": [
    "# Sum over the countries to get mother tongue probabilities\n",
    "np.sum(cnt_and_mt, axis=1)"
   ]
  },
  {
   "cell_type": "markdown",
   "metadata": {},
   "source": [
    "### Example 1.3 (Obtaining the Desired Conditional Probability Using Marginalizations)\n",
    "$$\n",
    "\\begin{align}\n",
    "p(B \\mid K) &= \\sum_m p(B, m \\mid K) & \\quad\\quad \\text{Marginalize over b} \\\\\n",
    "            &= \\sum_m \\frac{p(B, m, K)}{p(K)} & \\quad\\quad \\text{Conditional to joint} \\\\\n",
    "            &= \\frac{\\sum_m p(B, m, K)}{p(K)} & \\quad\\quad \\text{Sum to nominator} \\\\\n",
    "            &= \\frac{\\sum_m p(B, m, K)}{\\sum_b \\sum_m p(K \\mid b, m)p(b, m)} & \\quad\\quad \\text{Marginalize over m and b} \\\\\n",
    "            &= \\frac{\\sum_m p(B, m, K)}{\\sum_b \\sum_m p(K \\mid b, m)p(b)p(m)} & \\quad\\quad \\text{m and b are independent} \\\\\n",
    "            &= \\frac{\\sum_m p(B, m, K)}{\\sum_b p(b) \\sum_m p(K \\mid b, m)p(m)} & \\quad\\quad \\text{p(b) to outer sum} \\\\\n",
    "            &= \\frac{\\sum_m p(K \\mid B, m)p(B, m)}{\\sum_b p(b) \\sum_m p(K \\mid b, m)p(m)} & \\quad\\quad \\text{Joint to conditional} \\\\\n",
    "            &= \\frac{\\sum_m p(K \\mid B, m)p(B)p(m)}{\\sum_b p(b) \\sum_m p(K \\mid b, m)p(m)} & \\quad\\quad \\text{m and b are independent} \\\\\n",
    "            &= \\frac{p(B) \\sum_m p(K \\mid B, m)p(m)}{\\sum_b p(b) \\sum_m p(K \\mid b, m)p(m)} & \\quad\\quad \\text{p(b) to outer sum} \\\\\n",
    "\\end{align}\n",
    "$$"
   ]
  },
  {
   "cell_type": "markdown",
   "metadata": {},
   "source": [
    "### Exercise 1.11 (Soft XOR Gate)"
   ]
  },
  {
   "cell_type": "code",
   "execution_count": 1,
   "metadata": {},
   "outputs": [],
   "source": [
    "import numpy as np\n",
    "\n",
    "def soft_xor(a, b):\n",
    "    \"\"\"\n",
    "    Stochastically outputs 1 depending on a and b.\n",
    "    \"\"\"\n",
    "    high_prob = np.array([0.1, 0.99, 0.8, 0.25])\n",
    "    rand_num = np.random.ranf()\n",
    "    if a == 0 and b == 0:\n",
    "        threshold_index = 0\n",
    "    elif a == 0 and b == 1:\n",
    "        threshold_index = 1\n",
    "    elif a == 1 and b == 0:\n",
    "        threshold_index = 2\n",
    "    elif a == 1 and b == 1:\n",
    "        threshold_index = 3\n",
    "    \n",
    "    if rand_num <= high_prob[threshold_index]:\n",
    "        return 1\n",
    "    return 0"
   ]
  },
  {
   "cell_type": "code",
   "execution_count": 38,
   "metadata": {},
   "outputs": [
    {
     "data": {
      "text/plain": [
       "0.9895"
      ]
     },
     "execution_count": 38,
     "metadata": {},
     "output_type": "execute_result"
    }
   ],
   "source": [
    "num_tries = 10000\n",
    "sum(soft_xor(0, 1) for _ in range(num_tries))/num_tries"
   ]
  },
  {
   "cell_type": "markdown",
   "metadata": {},
   "source": [
    "### Exercise 1.12 (Hamburgers)"
   ]
  },
  {
   "cell_type": "code",
   "execution_count": 53,
   "metadata": {},
   "outputs": [
    {
     "name": "stdout",
     "output_type": "stream",
     "text": [
      "Question 1\n",
      "p(KJ|Hamburger Eater) = 0.000018\n",
      "\n",
      "Question 2\n",
      "p(KJ|Hamburger Eater) = 0.009000\n"
     ]
    }
   ],
   "source": [
    "p_kj = 1/100000\n",
    "p_h_given_kj = 0.9\n",
    "\n",
    "### 1.\n",
    "p_h = 0.5\n",
    "p_kj_given_h = (p_h_given_kj*p_kj)/p_h\n",
    "print('Question 1')\n",
    "print('p(KJ|Hamburger Eater) = {:f}'.format(p_kj_given_h))\n",
    "print()\n",
    "\n",
    "### 2.\n",
    "p_h = 0.001\n",
    "p_kj_given_h = (p_h_given_kj*p_kj)/p_h\n",
    "print('Question 2')\n",
    "print('p(KJ|Hamburger Eater) = {:f}'.format(p_kj_given_h))"
   ]
  },
  {
   "cell_type": "markdown",
   "metadata": {},
   "source": [
    "### Exercise 1.13 (Two Dice)"
   ]
  },
  {
   "cell_type": "code",
   "execution_count": 95,
   "metadata": {},
   "outputs": [
    {
     "name": "stdout",
     "output_type": "stream",
     "text": [
      "Prior = P(sa, sb) = P(sa)P(sb)\n",
      "[[ 0.02777778  0.02777778  0.02777778  0.02777778  0.02777778  0.02777778]\n",
      " [ 0.02777778  0.02777778  0.02777778  0.02777778  0.02777778  0.02777778]\n",
      " [ 0.02777778  0.02777778  0.02777778  0.02777778  0.02777778  0.02777778]\n",
      " [ 0.02777778  0.02777778  0.02777778  0.02777778  0.02777778  0.02777778]\n",
      " [ 0.02777778  0.02777778  0.02777778  0.02777778  0.02777778  0.02777778]\n",
      " [ 0.02777778  0.02777778  0.02777778  0.02777778  0.02777778  0.02777778]]\n",
      "\n",
      "Likelihood = P(t = 9 | sa, sb)\n",
      "[[0 0 0 0 0 0]\n",
      " [0 0 0 0 0 0]\n",
      " [0 0 0 0 0 1]\n",
      " [0 0 0 0 1 0]\n",
      " [0 0 0 1 0 0]\n",
      " [0 0 1 0 0 0]]\n",
      "\n",
      "Joint = P(t = 9, sa, sb) = Likelihood*Prior\n",
      "[[ 0.          0.          0.          0.          0.          0.        ]\n",
      " [ 0.          0.          0.          0.          0.          0.        ]\n",
      " [ 0.          0.          0.          0.          0.          0.02777778]\n",
      " [ 0.          0.          0.          0.          0.02777778  0.        ]\n",
      " [ 0.          0.          0.          0.02777778  0.          0.        ]\n",
      " [ 0.          0.          0.02777778  0.          0.          0.        ]]\n",
      "\n",
      "Posterior = P(sa, sb | t = 9)\n",
      "[[ 0.    0.    0.    0.    0.    0.  ]\n",
      " [ 0.    0.    0.    0.    0.    0.  ]\n",
      " [ 0.    0.    0.    0.    0.    0.25]\n",
      " [ 0.    0.    0.    0.    0.25  0.  ]\n",
      " [ 0.    0.    0.    0.25  0.    0.  ]\n",
      " [ 0.    0.    0.25  0.    0.    0.  ]]\n"
     ]
    }
   ],
   "source": [
    "# Prior\n",
    "p_sa = np.full(6, 1/6)\n",
    "p_sb = np.full(6, 1/6)\n",
    "prior = np.outer(p_sa, p_sb)\n",
    "print('Prior = P(sa, sb) = P(sa)P(sb)')\n",
    "print(prior)\n",
    "print()\n",
    "\n",
    "# Likelihood\n",
    "indices_1d = np.reshape(np.arange(36), (6, 6))\n",
    "dice_sums = (indices_1d//6 + 1) + (indices_1d%6 + 1)\n",
    "likelihood = (dice_sums == 9).astype(int)\n",
    "print('Likelihood = P(t = 9 | sa, sb)')\n",
    "print(likelihood)\n",
    "print()\n",
    "\n",
    "# Normalizer\n",
    "joint = prior*likelihood\n",
    "print('Joint = P(t = 9, sa, sb) = Likelihood*Prior')\n",
    "print(joint)\n",
    "print()\n",
    "normalizer = np.sum(joint)\n",
    "\n",
    "# Posterior\n",
    "posterior = likelihood*prior/normalizer  # joint/normalizer\n",
    "print('Posterior = P(sa, sb | t = 9)')\n",
    "print(posterior)"
   ]
  }
 ],
 "metadata": {
  "kernelspec": {
   "display_name": "Python 3",
   "language": "python",
   "name": "python3"
  },
  "language_info": {
   "codemirror_mode": {
    "name": "ipython",
    "version": 3
   },
   "file_extension": ".py",
   "mimetype": "text/x-python",
   "name": "python",
   "nbconvert_exporter": "python",
   "pygments_lexer": "ipython3",
   "version": "3.6.1"
  }
 },
 "nbformat": 4,
 "nbformat_minor": 2
}
