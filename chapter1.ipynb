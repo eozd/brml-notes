{
 "cells": [
  {
   "cell_type": "markdown",
   "metadata": {},
   "source": [
    "## Reminders"
   ]
  },
  {
   "cell_type": "markdown",
   "metadata": {},
   "source": [
    "### Conditional Probability\n",
    "\n",
    "$$\n",
    "p(x \\mid y) = \\frac{p(x, y)}{p(y)}\n",
    "$$"
   ]
  },
  {
   "cell_type": "markdown",
   "metadata": {},
   "source": [
    "### Bayes' Rule\n",
    "\n",
    "$\n",
    "\\begin{align}\n",
    "p(x \\mid y) &= \\frac{p(y \\mid x)p(x)}{p(y)} \\\\\n",
    "            &= \\frac{p(y \\mid x)p(x)}{\\int_x p(y \\mid x)p(x)}\n",
    "\\end{align}\n",
    "$\n",
    "\n",
    "Posterior, likelihood and prior:\n",
    "\n",
    "$\n",
    "Posterior = \\frac{Likelihood \\cdot Prior}{Normalizer}\n",
    "$"
   ]
  },
  {
   "cell_type": "markdown",
   "metadata": {},
   "source": [
    "### Frequentist Perspective on Probability\n",
    "If we were to repeat the same experiment many times, in the limit, the frequency of the event would approach the given probability."
   ]
  },
  {
   "cell_type": "markdown",
   "metadata": {},
   "source": [
    "### Bayesian Perspective on Probability\n",
    "Probability is a reasonable guess based on our degree of belief about the environment."
   ]
  },
  {
   "cell_type": "markdown",
   "metadata": {},
   "source": [
    "### Independence\n",
    "$$\n",
    "\\text{x and y are independent} \\iff p(x, y) = kf(x)g(y)\n",
    "$$"
   ]
  },
  {
   "cell_type": "markdown",
   "metadata": {},
   "source": [
    "### Conditional Independence"
   ]
  },
  {
   "cell_type": "markdown",
   "metadata": {},
   "source": [
    "$$\n",
    "X \\ci Y \\mid Z\n",
    "$$\n",
    "\n",
    "denotes that random variables $X$ and $Y$ are independent provided that we know the state of $Z$.\n",
    "\n",
    "$$\n",
    "X \\ci Y \\mid Z \\iff p(X, Y \\mid Z) = p(X \\mid Z)p(Y \\mid Z)\n",
    "$$\n",
    "\n",
    "1. If $Z = \\varnothing$, then $X$ and $Y$ are (unconditionally) independent.\n",
    "2. It may be the case that $X$ and $Y$ are not independent, but $X$ and $Y$ are conditionally independent given $Z$.\n",
    "\n",
    "See https://www.eecs.qmul.ac.uk/~norman/BBNs/Independence_and_conditional_independence.htm for examples on conditional independence."
   ]
  },
  {
   "cell_type": "markdown",
   "metadata": {},
   "source": [
    "## Examples"
   ]
  },
  {
   "cell_type": "markdown",
   "metadata": {},
   "source": [
    "### Probability Tables Example"
   ]
  },
  {
   "cell_type": "code",
   "execution_count": 22,
   "metadata": {},
   "outputs": [],
   "source": [
    "# Country probabilities\n",
    "cnt = np.array([0.88, 0.08, 0.04])\n",
    "# Mother tongue given country probabilities\n",
    "mt_given_cnt = np.array([[.95, .7, .6],\n",
    "                         [.04, .3, .0],\n",
    "                         [.01, .0, .4]])"
   ]
  },
  {
   "cell_type": "code",
   "execution_count": 18,
   "metadata": {},
   "outputs": [
    {
     "data": {
      "text/plain": [
       "array([[ 0.836 ,  0.056 ,  0.024 ],\n",
       "       [ 0.0352,  0.024 ,  0.    ],\n",
       "       [ 0.0088,  0.    ,  0.016 ]])"
      ]
     },
     "execution_count": 18,
     "metadata": {},
     "output_type": "execute_result"
    }
   ],
   "source": [
    "# Matrix containing the joint probabilities at its each entry\n",
    "# This is not a matrix product\n",
    "cnt_and_mt = mt_given_cnt*cnt\n",
    "cnt_and_mt"
   ]
  },
  {
   "cell_type": "code",
   "execution_count": 20,
   "metadata": {},
   "outputs": [
    {
     "data": {
      "text/plain": [
       "array([ 0.88,  0.08,  0.04])"
      ]
     },
     "execution_count": 20,
     "metadata": {},
     "output_type": "execute_result"
    }
   ],
   "source": [
    "# Sum over the mother tongues to get country probabilities\n",
    "np.sum(cnt_and_mt, axis=0)"
   ]
  },
  {
   "cell_type": "code",
   "execution_count": 21,
   "metadata": {},
   "outputs": [
    {
     "data": {
      "text/plain": [
       "array([ 0.916 ,  0.0592,  0.0248])"
      ]
     },
     "execution_count": 21,
     "metadata": {},
     "output_type": "execute_result"
    }
   ],
   "source": [
    "# Sum over the countries to get mother tongue probabilities\n",
    "np.sum(cnt_and_mt, axis=1)"
   ]
  },
  {
   "cell_type": "markdown",
   "metadata": {},
   "source": [
    "### Example 1.3 (Obtaining the Desired Conditional Probability Using Marginalizations)\n",
    "$\n",
    "\\begin{align}\n",
    "p(B \\mid K) &= \\sum_m p(B, m \\mid K) & \\quad\\quad \\text{Marginalize over b} \\\\\n",
    "            &= \\sum_m \\frac{p(B, m, K)}{p(K)} & \\quad\\quad \\text{Conditional to joint} \\\\\n",
    "            &= \\frac{\\sum_m p(B, m, K)}{p(K)} & \\quad\\quad \\text{Sum to nominator} \\\\\n",
    "            &= \\frac{\\sum_m p(B, m, K)}{\\sum_b \\sum_m p(K \\mid b, m)p(b, m)} & \\quad\\quad \\text{Marginalize over m and b} \\\\\n",
    "            &= \\frac{\\sum_m p(B, m, K)}{\\sum_b \\sum_m p(K \\mid b, m)p(b)p(m)} & \\quad\\quad \\text{m and b are independent} \\\\\n",
    "            &= \\frac{\\sum_m p(B, m, K)}{\\sum_b p(b) \\sum_m p(K \\mid b, m)p(m)} & \\quad\\quad \\text{p(b) to outer sum} \\\\\n",
    "            &= \\frac{\\sum_m p(K \\mid B, m)p(B, m)}{\\sum_b p(b) \\sum_m p(K \\mid b, m)p(m)} & \\quad\\quad \\text{Joint to conditional} \\\\\n",
    "            &= \\frac{\\sum_m p(K \\mid B, m)p(B)p(m)}{\\sum_b p(b) \\sum_m p(K \\mid b, m)p(m)} & \\quad\\quad \\text{m and b are independent} \\\\\n",
    "            &= \\frac{p(B) \\sum_m p(K \\mid B, m)p(m)}{\\sum_b p(b) \\sum_m p(K \\mid b, m)p(m)} & \\quad\\quad \\text{p(b) to outer sum} \\\\\n",
    "\\end{align}\n",
    "$"
   ]
  },
  {
   "cell_type": "markdown",
   "metadata": {},
   "source": [
    "### Exercise 1.11 (Soft XOR Gate)"
   ]
  },
  {
   "cell_type": "code",
   "execution_count": 1,
   "metadata": {},
   "outputs": [],
   "source": [
    "import numpy as np\n",
    "\n",
    "def soft_xor(a, b):\n",
    "    \"\"\"\n",
    "    Stochastically outputs 1 depending on a and b.\n",
    "    \"\"\"\n",
    "    high_prob = np.array([0.1, 0.99, 0.8, 0.25])\n",
    "    rand_num = np.random.ranf()\n",
    "    if a == 0 and b == 0:\n",
    "        threshold_index = 0\n",
    "    elif a == 0 and b == 1:\n",
    "        threshold_index = 1\n",
    "    elif a == 1 and b == 0:\n",
    "        threshold_index = 2\n",
    "    elif a == 1 and b == 1:\n",
    "        threshold_index = 3\n",
    "    \n",
    "    if rand_num <= high_prob[threshold_index]:\n",
    "        return 1\n",
    "    return 0"
   ]
  },
  {
   "cell_type": "code",
   "execution_count": 38,
   "metadata": {},
   "outputs": [
    {
     "data": {
      "text/plain": [
       "0.9895"
      ]
     },
     "execution_count": 38,
     "metadata": {},
     "output_type": "execute_result"
    }
   ],
   "source": [
    "num_tries = 10000\n",
    "sum(soft_xor(0, 1) for _ in range(num_tries))/num_tries"
   ]
  },
  {
   "cell_type": "markdown",
   "metadata": {},
   "source": [
    "### Exercise 1.12 (Hamburgers)"
   ]
  },
  {
   "cell_type": "code",
   "execution_count": 53,
   "metadata": {},
   "outputs": [
    {
     "name": "stdout",
     "output_type": "stream",
     "text": [
      "Question 1\n",
      "p(KJ|Hamburger Eater) = 0.000018\n",
      "\n",
      "Question 2\n",
      "p(KJ|Hamburger Eater) = 0.009000\n"
     ]
    }
   ],
   "source": [
    "p_kj = 1/100000\n",
    "p_h_given_kj = 0.9\n",
    "\n",
    "### 1.\n",
    "p_h = 0.5\n",
    "p_kj_given_h = (p_h_given_kj*p_kj)/p_h\n",
    "print('Question 1')\n",
    "print('p(KJ|Hamburger Eater) = {:f}'.format(p_kj_given_h))\n",
    "print()\n",
    "\n",
    "### 2.\n",
    "p_h = 0.001\n",
    "p_kj_given_h = (p_h_given_kj*p_kj)/p_h\n",
    "print('Question 2')\n",
    "print('p(KJ|Hamburger Eater) = {:f}'.format(p_kj_given_h))"
   ]
  },
  {
   "cell_type": "markdown",
   "metadata": {},
   "source": [
    "### Exercise 1.13 (Two Dice)"
   ]
  },
  {
   "cell_type": "code",
   "execution_count": 2,
   "metadata": {},
   "outputs": [
    {
     "name": "stdout",
     "output_type": "stream",
     "text": [
      "Prior = P(sa, sb) = P(sa)P(sb)\n",
      "[[ 0.02777778  0.02777778  0.02777778  0.02777778  0.02777778  0.02777778]\n",
      " [ 0.02777778  0.02777778  0.02777778  0.02777778  0.02777778  0.02777778]\n",
      " [ 0.02777778  0.02777778  0.02777778  0.02777778  0.02777778  0.02777778]\n",
      " [ 0.02777778  0.02777778  0.02777778  0.02777778  0.02777778  0.02777778]\n",
      " [ 0.02777778  0.02777778  0.02777778  0.02777778  0.02777778  0.02777778]\n",
      " [ 0.02777778  0.02777778  0.02777778  0.02777778  0.02777778  0.02777778]]\n",
      "\n",
      "Likelihood = P(t = 9 | sa, sb)\n",
      "[[0 0 0 0 0 0]\n",
      " [0 0 0 0 0 0]\n",
      " [0 0 0 0 0 1]\n",
      " [0 0 0 0 1 0]\n",
      " [0 0 0 1 0 0]\n",
      " [0 0 1 0 0 0]]\n",
      "\n",
      "Joint = P(t = 9, sa, sb) = Likelihood*Prior\n",
      "[[ 0.          0.          0.          0.          0.          0.        ]\n",
      " [ 0.          0.          0.          0.          0.          0.        ]\n",
      " [ 0.          0.          0.          0.          0.          0.02777778]\n",
      " [ 0.          0.          0.          0.          0.02777778  0.        ]\n",
      " [ 0.          0.          0.          0.02777778  0.          0.        ]\n",
      " [ 0.          0.          0.02777778  0.          0.          0.        ]]\n",
      "\n",
      "Posterior = P(sa, sb | t = 9)\n",
      "[[ 0.    0.    0.    0.    0.    0.  ]\n",
      " [ 0.    0.    0.    0.    0.    0.  ]\n",
      " [ 0.    0.    0.    0.    0.    0.25]\n",
      " [ 0.    0.    0.    0.    0.25  0.  ]\n",
      " [ 0.    0.    0.    0.25  0.    0.  ]\n",
      " [ 0.    0.    0.25  0.    0.    0.  ]]\n"
     ]
    }
   ],
   "source": [
    "# Prior\n",
    "p_sa = np.full(6, 1/6)\n",
    "p_sb = np.full(6, 1/6)\n",
    "prior = np.outer(p_sa, p_sb)\n",
    "print('Prior = P(sa, sb) = P(sa)P(sb)')\n",
    "print(prior)\n",
    "print()\n",
    "\n",
    "# Likelihood\n",
    "indices_1d = np.reshape(np.arange(36), (6, 6))\n",
    "dice_sums = (indices_1d//6 + 1) + (indices_1d%6 + 1)\n",
    "likelihood = (dice_sums == 9).astype(int)\n",
    "print('Likelihood = P(t = 9 | sa, sb)')\n",
    "print(likelihood)\n",
    "print()\n",
    "\n",
    "# Normalizer\n",
    "joint = prior*likelihood\n",
    "print('Joint = P(t = 9, sa, sb) = Likelihood*Prior')\n",
    "print(joint)\n",
    "print()\n",
    "normalizer = np.sum(joint)\n",
    "\n",
    "# Posterior\n",
    "posterior = likelihood*prior/normalizer  # joint/normalizer\n",
    "print('Posterior = P(sa, sb | t = 9)')\n",
    "print(posterior)"
   ]
  },
  {
   "cell_type": "markdown",
   "metadata": {},
   "source": [
    "### Exercise 1.19.2"
   ]
  },
  {
   "cell_type": "markdown",
   "metadata": {},
   "source": [
    "$T : \\text{Random variable representing the weather today}$\n",
    "\n",
    "$Y : \\text{Random variable representing the weather yesterday}$\n",
    "\n",
    "Then, we can draw the table for $P(T \\mid Y)$.\n",
    "\n",
    "|   P(T $|$ Y)    | Y = Rainy | Y = Sunny |\n",
    "| --------------- | --------- | --------- |\n",
    "| T = Rainy       |     0.7   |     0.6   |\n",
    "| T = Sunny       |     0.3   |     0.4   |\n",
    "\n",
    "This conditional probability table corresponds to the following Markov Chain."
   ]
  },
  {
   "cell_type": "code",
   "execution_count": 72,
   "metadata": {},
   "outputs": [
    {
     "data": {
      "image/svg+xml": [
       "<?xml version=\"1.0\" encoding=\"UTF-8\" standalone=\"no\"?>\n",
       "<!DOCTYPE svg PUBLIC \"-//W3C//DTD SVG 1.1//EN\"\n",
       " \"http://www.w3.org/Graphics/SVG/1.1/DTD/svg11.dtd\">\n",
       "<!-- Generated by graphviz version 2.40.1 (20161225.0304)\n",
       " -->\n",
       "<!-- Title: %3 Pages: 1 -->\n",
       "<svg width=\"109pt\" height=\"131pt\"\n",
       " viewBox=\"0.00 0.00 108.99 131.00\" xmlns=\"http://www.w3.org/2000/svg\" xmlns:xlink=\"http://www.w3.org/1999/xlink\">\n",
       "<g id=\"graph0\" class=\"graph\" transform=\"scale(1 1) rotate(0) translate(4 127)\">\n",
       "<title>%3</title>\n",
       "<polygon fill=\"#ffffff\" stroke=\"transparent\" points=\"-4,4 -4,-127 104.9942,-127 104.9942,4 -4,4\"/>\n",
       "<!-- Rainy -->\n",
       "<g id=\"node1\" class=\"node\">\n",
       "<title>Rainy</title>\n",
       "<ellipse fill=\"none\" stroke=\"#000000\" cx=\"32.4971\" cy=\"-105\" rx=\"31.3957\" ry=\"18\"/>\n",
       "<text text-anchor=\"middle\" x=\"32.4971\" y=\"-101.3\" font-family=\"Times,serif\" font-size=\"14.00\" fill=\"#000000\">Rainy</text>\n",
       "</g>\n",
       "<!-- Rainy&#45;&gt;Rainy -->\n",
       "<g id=\"edge1\" class=\"edge\">\n",
       "<title>Rainy&#45;&gt;Rainy</title>\n",
       "<path fill=\"none\" stroke=\"#000000\" d=\"M60.8086,-112.8269C72.1636,-113.2691 81.6943,-110.6602 81.6943,-105 81.6943,-101.1971 77.392,-98.7715 71.1247,-97.7233\"/>\n",
       "<polygon fill=\"#000000\" stroke=\"#000000\" points=\"70.9808,-94.2107 60.8086,-97.1731 70.6079,-101.2008 70.9808,-94.2107\"/>\n",
       "<text text-anchor=\"middle\" x=\"90.6943\" y=\"-101.3\" font-family=\"Times,serif\" font-size=\"14.00\" fill=\"#000000\">0.7</text>\n",
       "</g>\n",
       "<!-- Sunny -->\n",
       "<g id=\"node2\" class=\"node\">\n",
       "<title>Sunny</title>\n",
       "<ellipse fill=\"none\" stroke=\"#000000\" cx=\"32.4971\" cy=\"-18\" rx=\"32.4942\" ry=\"18\"/>\n",
       "<text text-anchor=\"middle\" x=\"32.4971\" y=\"-14.3\" font-family=\"Times,serif\" font-size=\"14.00\" fill=\"#000000\">Sunny</text>\n",
       "</g>\n",
       "<!-- Rainy&#45;&gt;Sunny -->\n",
       "<g id=\"edge2\" class=\"edge\">\n",
       "<title>Rainy&#45;&gt;Sunny</title>\n",
       "<path fill=\"none\" stroke=\"#000000\" d=\"M20.8162,-88.3046C15.3393,-78.4895 10.5893,-65.7395 13.4971,-54 14.2957,-50.7759 15.4415,-47.5222 16.7801,-44.3585\"/>\n",
       "<polygon fill=\"#000000\" stroke=\"#000000\" points=\"19.9814,-45.7789 21.2198,-35.2567 13.6899,-42.71 19.9814,-45.7789\"/>\n",
       "<text text-anchor=\"middle\" x=\"22.4971\" y=\"-57.8\" font-family=\"Times,serif\" font-size=\"14.00\" fill=\"#000000\">0.3</text>\n",
       "</g>\n",
       "<!-- Sunny&#45;&gt;Rainy -->\n",
       "<g id=\"edge3\" class=\"edge\">\n",
       "<title>Sunny&#45;&gt;Rainy</title>\n",
       "<path fill=\"none\" stroke=\"#000000\" d=\"M32.4971,-36.0034C32.4971,-47.7801 32.4971,-63.4102 32.4971,-76.8156\"/>\n",
       "<polygon fill=\"#000000\" stroke=\"#000000\" points=\"28.9972,-76.9735 32.4971,-86.9735 35.9972,-76.9736 28.9972,-76.9735\"/>\n",
       "<text text-anchor=\"middle\" x=\"41.4971\" y=\"-57.8\" font-family=\"Times,serif\" font-size=\"14.00\" fill=\"#000000\">0.6</text>\n",
       "</g>\n",
       "<!-- Sunny&#45;&gt;Sunny -->\n",
       "<g id=\"edge4\" class=\"edge\">\n",
       "<title>Sunny&#45;&gt;Sunny</title>\n",
       "<path fill=\"none\" stroke=\"#000000\" d=\"M61.8097,-25.8361C73.3529,-26.2312 82.9942,-23.6191 82.9942,-18 82.9942,-14.1368 78.4372,-11.695 71.8381,-10.6745\"/>\n",
       "<polygon fill=\"#000000\" stroke=\"#000000\" points=\"71.9748,-7.177 61.8097,-10.1639 71.6188,-14.168 71.9748,-7.177\"/>\n",
       "<text text-anchor=\"middle\" x=\"91.9942\" y=\"-14.3\" font-family=\"Times,serif\" font-size=\"14.00\" fill=\"#000000\">0.4</text>\n",
       "</g>\n",
       "</g>\n",
       "</svg>\n"
      ],
      "text/plain": [
       "<graphviz.dot.Digraph at 0x7f56b6879f60>"
      ]
     },
     "execution_count": 72,
     "metadata": {},
     "output_type": "execute_result"
    }
   ],
   "source": [
    "from utils.graph_utils import digraph_from_numpy_array\n",
    "\n",
    "# state transition matrix\n",
    "T = np.array([[0.7, 0.3],\n",
    "              [0.6, 0.4]])\n",
    "digraph_from_numpy_array(T, labels=['Rainy', 'Sunny'], edge_fmt='{:.1f}')"
   ]
  },
  {
   "cell_type": "markdown",
   "metadata": {},
   "source": [
    "To answer the second part of the question, we need the steady state transition matrix of this Markov Chain which can be found by multiplying the initial transition matrix with itself sufficiently many times."
   ]
  },
  {
   "cell_type": "code",
   "execution_count": 21,
   "metadata": {
    "scrolled": false
   },
   "outputs": [
    {
     "name": "stdout",
     "output_type": "stream",
     "text": [
      "T^2\n"
     ]
    },
    {
     "data": {
      "image/svg+xml": [
       "<?xml version=\"1.0\" encoding=\"UTF-8\" standalone=\"no\"?>\n",
       "<!DOCTYPE svg PUBLIC \"-//W3C//DTD SVG 1.1//EN\"\n",
       " \"http://www.w3.org/Graphics/SVG/1.1/DTD/svg11.dtd\">\n",
       "<!-- Generated by graphviz version 2.40.1 (20161225.0304)\n",
       " -->\n",
       "<!-- Title: %3 Pages: 1 -->\n",
       "<svg width=\"138pt\" height=\"131pt\"\n",
       " viewBox=\"0.00 0.00 138.46 131.00\" xmlns=\"http://www.w3.org/2000/svg\" xmlns:xlink=\"http://www.w3.org/1999/xlink\">\n",
       "<g id=\"graph0\" class=\"graph\" transform=\"scale(1 1) rotate(0) translate(4 127)\">\n",
       "<title>%3</title>\n",
       "<polygon fill=\"#ffffff\" stroke=\"transparent\" points=\"-4,4 -4,-127 134.4583,-127 134.4583,4 -4,4\"/>\n",
       "<!-- Rainy -->\n",
       "<g id=\"node1\" class=\"node\">\n",
       "<title>Rainy</title>\n",
       "<ellipse fill=\"none\" stroke=\"#000000\" cx=\"34.9612\" cy=\"-105\" rx=\"31.3957\" ry=\"18\"/>\n",
       "<text text-anchor=\"middle\" x=\"34.9612\" y=\"-101.3\" font-family=\"Times,serif\" font-size=\"14.00\" fill=\"#000000\">Rainy</text>\n",
       "</g>\n",
       "<!-- Rainy&#45;&gt;Rainy -->\n",
       "<g id=\"edge1\" class=\"edge\">\n",
       "<title>Rainy&#45;&gt;Rainy</title>\n",
       "<path fill=\"none\" stroke=\"#000000\" d=\"M63.2726,-112.8269C74.6276,-113.2691 84.1584,-110.6602 84.1584,-105 84.1584,-101.1971 79.8561,-98.7715 73.5887,-97.7233\"/>\n",
       "<polygon fill=\"#000000\" stroke=\"#000000\" points=\"73.4449,-94.2107 63.2726,-97.1731 73.072,-101.2008 73.4449,-94.2107\"/>\n",
       "<text text-anchor=\"middle\" x=\"106.6584\" y=\"-101.3\" font-family=\"Times,serif\" font-size=\"14.00\" fill=\"#000000\">0.67000</text>\n",
       "</g>\n",
       "<!-- Sunny -->\n",
       "<g id=\"node2\" class=\"node\">\n",
       "<title>Sunny</title>\n",
       "<ellipse fill=\"none\" stroke=\"#000000\" cx=\"34.9612\" cy=\"-18\" rx=\"32.4942\" ry=\"18\"/>\n",
       "<text text-anchor=\"middle\" x=\"34.9612\" y=\"-14.3\" font-family=\"Times,serif\" font-size=\"14.00\" fill=\"#000000\">Sunny</text>\n",
       "</g>\n",
       "<!-- Rainy&#45;&gt;Sunny -->\n",
       "<g id=\"edge2\" class=\"edge\">\n",
       "<title>Rainy&#45;&gt;Sunny</title>\n",
       "<path fill=\"none\" stroke=\"#000000\" d=\"M16.5576,-89.9907C10.7426,-84.1235 5.0348,-76.9018 1.9612,-69 -1.9612,-58.9164 2.5603,-48.724 9.3877,-40.1296\"/>\n",
       "<polygon fill=\"#000000\" stroke=\"#000000\" points=\"11.9787,-42.4826 16.1299,-32.7349 6.806,-37.7663 11.9787,-42.4826\"/>\n",
       "<text text-anchor=\"middle\" x=\"24.4612\" y=\"-57.8\" font-family=\"Times,serif\" font-size=\"14.00\" fill=\"#000000\">0.33000</text>\n",
       "</g>\n",
       "<!-- Sunny&#45;&gt;Rainy -->\n",
       "<g id=\"edge3\" class=\"edge\">\n",
       "<title>Sunny&#45;&gt;Rainy</title>\n",
       "<path fill=\"none\" stroke=\"#000000\" d=\"M42.6834,-35.8149C46.0089,-45.5532 48.7679,-57.8666 46.9612,-69 46.4962,-71.8654 45.8358,-74.8109 45.061,-77.7241\"/>\n",
       "<polygon fill=\"#000000\" stroke=\"#000000\" points=\"41.6978,-76.7534 42.1039,-87.3405 48.3886,-78.8109 41.6978,-76.7534\"/>\n",
       "<text text-anchor=\"middle\" x=\"69.4612\" y=\"-57.8\" font-family=\"Times,serif\" font-size=\"14.00\" fill=\"#000000\">0.66000</text>\n",
       "</g>\n",
       "<!-- Sunny&#45;&gt;Sunny -->\n",
       "<g id=\"edge4\" class=\"edge\">\n",
       "<title>Sunny&#45;&gt;Sunny</title>\n",
       "<path fill=\"none\" stroke=\"#000000\" d=\"M64.2738,-25.8361C75.817,-26.2312 85.4583,-23.6191 85.4583,-18 85.4583,-14.1368 80.9013,-11.695 74.3021,-10.6745\"/>\n",
       "<polygon fill=\"#000000\" stroke=\"#000000\" points=\"74.4388,-7.177 64.2738,-10.1639 74.0828,-14.168 74.4388,-7.177\"/>\n",
       "<text text-anchor=\"middle\" x=\"107.9583\" y=\"-14.3\" font-family=\"Times,serif\" font-size=\"14.00\" fill=\"#000000\">0.34000</text>\n",
       "</g>\n",
       "</g>\n",
       "</svg>\n"
      ],
      "text/plain": [
       "<graphviz.dot.Digraph at 0x7f56b692b208>"
      ]
     },
     "metadata": {},
     "output_type": "display_data"
    },
    {
     "name": "stdout",
     "output_type": "stream",
     "text": [
      "====================\n",
      "T^3\n"
     ]
    },
    {
     "data": {
      "image/svg+xml": [
       "<?xml version=\"1.0\" encoding=\"UTF-8\" standalone=\"no\"?>\n",
       "<!DOCTYPE svg PUBLIC \"-//W3C//DTD SVG 1.1//EN\"\n",
       " \"http://www.w3.org/Graphics/SVG/1.1/DTD/svg11.dtd\">\n",
       "<!-- Generated by graphviz version 2.40.1 (20161225.0304)\n",
       " -->\n",
       "<!-- Title: %3 Pages: 1 -->\n",
       "<svg width=\"138pt\" height=\"131pt\"\n",
       " viewBox=\"0.00 0.00 138.46 131.00\" xmlns=\"http://www.w3.org/2000/svg\" xmlns:xlink=\"http://www.w3.org/1999/xlink\">\n",
       "<g id=\"graph0\" class=\"graph\" transform=\"scale(1 1) rotate(0) translate(4 127)\">\n",
       "<title>%3</title>\n",
       "<polygon fill=\"#ffffff\" stroke=\"transparent\" points=\"-4,4 -4,-127 134.4583,-127 134.4583,4 -4,4\"/>\n",
       "<!-- Rainy -->\n",
       "<g id=\"node1\" class=\"node\">\n",
       "<title>Rainy</title>\n",
       "<ellipse fill=\"none\" stroke=\"#000000\" cx=\"34.9612\" cy=\"-105\" rx=\"31.3957\" ry=\"18\"/>\n",
       "<text text-anchor=\"middle\" x=\"34.9612\" y=\"-101.3\" font-family=\"Times,serif\" font-size=\"14.00\" fill=\"#000000\">Rainy</text>\n",
       "</g>\n",
       "<!-- Rainy&#45;&gt;Rainy -->\n",
       "<g id=\"edge1\" class=\"edge\">\n",
       "<title>Rainy&#45;&gt;Rainy</title>\n",
       "<path fill=\"none\" stroke=\"#000000\" d=\"M63.2726,-112.8269C74.6276,-113.2691 84.1584,-110.6602 84.1584,-105 84.1584,-101.1971 79.8561,-98.7715 73.5887,-97.7233\"/>\n",
       "<polygon fill=\"#000000\" stroke=\"#000000\" points=\"73.4449,-94.2107 63.2726,-97.1731 73.072,-101.2008 73.4449,-94.2107\"/>\n",
       "<text text-anchor=\"middle\" x=\"106.6584\" y=\"-101.3\" font-family=\"Times,serif\" font-size=\"14.00\" fill=\"#000000\">0.66700</text>\n",
       "</g>\n",
       "<!-- Sunny -->\n",
       "<g id=\"node2\" class=\"node\">\n",
       "<title>Sunny</title>\n",
       "<ellipse fill=\"none\" stroke=\"#000000\" cx=\"34.9612\" cy=\"-18\" rx=\"32.4942\" ry=\"18\"/>\n",
       "<text text-anchor=\"middle\" x=\"34.9612\" y=\"-14.3\" font-family=\"Times,serif\" font-size=\"14.00\" fill=\"#000000\">Sunny</text>\n",
       "</g>\n",
       "<!-- Rainy&#45;&gt;Sunny -->\n",
       "<g id=\"edge2\" class=\"edge\">\n",
       "<title>Rainy&#45;&gt;Sunny</title>\n",
       "<path fill=\"none\" stroke=\"#000000\" d=\"M16.5576,-89.9907C10.7426,-84.1235 5.0348,-76.9018 1.9612,-69 -1.9612,-58.9164 2.5603,-48.724 9.3877,-40.1296\"/>\n",
       "<polygon fill=\"#000000\" stroke=\"#000000\" points=\"11.9787,-42.4826 16.1299,-32.7349 6.806,-37.7663 11.9787,-42.4826\"/>\n",
       "<text text-anchor=\"middle\" x=\"24.4612\" y=\"-57.8\" font-family=\"Times,serif\" font-size=\"14.00\" fill=\"#000000\">0.33300</text>\n",
       "</g>\n",
       "<!-- Sunny&#45;&gt;Rainy -->\n",
       "<g id=\"edge3\" class=\"edge\">\n",
       "<title>Sunny&#45;&gt;Rainy</title>\n",
       "<path fill=\"none\" stroke=\"#000000\" d=\"M42.6834,-35.8149C46.0089,-45.5532 48.7679,-57.8666 46.9612,-69 46.4962,-71.8654 45.8358,-74.8109 45.061,-77.7241\"/>\n",
       "<polygon fill=\"#000000\" stroke=\"#000000\" points=\"41.6978,-76.7534 42.1039,-87.3405 48.3886,-78.8109 41.6978,-76.7534\"/>\n",
       "<text text-anchor=\"middle\" x=\"69.4612\" y=\"-57.8\" font-family=\"Times,serif\" font-size=\"14.00\" fill=\"#000000\">0.66600</text>\n",
       "</g>\n",
       "<!-- Sunny&#45;&gt;Sunny -->\n",
       "<g id=\"edge4\" class=\"edge\">\n",
       "<title>Sunny&#45;&gt;Sunny</title>\n",
       "<path fill=\"none\" stroke=\"#000000\" d=\"M64.2738,-25.8361C75.817,-26.2312 85.4583,-23.6191 85.4583,-18 85.4583,-14.1368 80.9013,-11.695 74.3021,-10.6745\"/>\n",
       "<polygon fill=\"#000000\" stroke=\"#000000\" points=\"74.4388,-7.177 64.2738,-10.1639 74.0828,-14.168 74.4388,-7.177\"/>\n",
       "<text text-anchor=\"middle\" x=\"107.9583\" y=\"-14.3\" font-family=\"Times,serif\" font-size=\"14.00\" fill=\"#000000\">0.33400</text>\n",
       "</g>\n",
       "</g>\n",
       "</svg>\n"
      ],
      "text/plain": [
       "<graphviz.dot.Digraph at 0x7f56b6af9da0>"
      ]
     },
     "metadata": {},
     "output_type": "display_data"
    },
    {
     "name": "stdout",
     "output_type": "stream",
     "text": [
      "====================\n",
      "T^4\n"
     ]
    },
    {
     "data": {
      "image/svg+xml": [
       "<?xml version=\"1.0\" encoding=\"UTF-8\" standalone=\"no\"?>\n",
       "<!DOCTYPE svg PUBLIC \"-//W3C//DTD SVG 1.1//EN\"\n",
       " \"http://www.w3.org/Graphics/SVG/1.1/DTD/svg11.dtd\">\n",
       "<!-- Generated by graphviz version 2.40.1 (20161225.0304)\n",
       " -->\n",
       "<!-- Title: %3 Pages: 1 -->\n",
       "<svg width=\"138pt\" height=\"131pt\"\n",
       " viewBox=\"0.00 0.00 138.46 131.00\" xmlns=\"http://www.w3.org/2000/svg\" xmlns:xlink=\"http://www.w3.org/1999/xlink\">\n",
       "<g id=\"graph0\" class=\"graph\" transform=\"scale(1 1) rotate(0) translate(4 127)\">\n",
       "<title>%3</title>\n",
       "<polygon fill=\"#ffffff\" stroke=\"transparent\" points=\"-4,4 -4,-127 134.4583,-127 134.4583,4 -4,4\"/>\n",
       "<!-- Rainy -->\n",
       "<g id=\"node1\" class=\"node\">\n",
       "<title>Rainy</title>\n",
       "<ellipse fill=\"none\" stroke=\"#000000\" cx=\"34.9612\" cy=\"-105\" rx=\"31.3957\" ry=\"18\"/>\n",
       "<text text-anchor=\"middle\" x=\"34.9612\" y=\"-101.3\" font-family=\"Times,serif\" font-size=\"14.00\" fill=\"#000000\">Rainy</text>\n",
       "</g>\n",
       "<!-- Rainy&#45;&gt;Rainy -->\n",
       "<g id=\"edge1\" class=\"edge\">\n",
       "<title>Rainy&#45;&gt;Rainy</title>\n",
       "<path fill=\"none\" stroke=\"#000000\" d=\"M63.2726,-112.8269C74.6276,-113.2691 84.1584,-110.6602 84.1584,-105 84.1584,-101.1971 79.8561,-98.7715 73.5887,-97.7233\"/>\n",
       "<polygon fill=\"#000000\" stroke=\"#000000\" points=\"73.4449,-94.2107 63.2726,-97.1731 73.072,-101.2008 73.4449,-94.2107\"/>\n",
       "<text text-anchor=\"middle\" x=\"106.6584\" y=\"-101.3\" font-family=\"Times,serif\" font-size=\"14.00\" fill=\"#000000\">0.66670</text>\n",
       "</g>\n",
       "<!-- Sunny -->\n",
       "<g id=\"node2\" class=\"node\">\n",
       "<title>Sunny</title>\n",
       "<ellipse fill=\"none\" stroke=\"#000000\" cx=\"34.9612\" cy=\"-18\" rx=\"32.4942\" ry=\"18\"/>\n",
       "<text text-anchor=\"middle\" x=\"34.9612\" y=\"-14.3\" font-family=\"Times,serif\" font-size=\"14.00\" fill=\"#000000\">Sunny</text>\n",
       "</g>\n",
       "<!-- Rainy&#45;&gt;Sunny -->\n",
       "<g id=\"edge2\" class=\"edge\">\n",
       "<title>Rainy&#45;&gt;Sunny</title>\n",
       "<path fill=\"none\" stroke=\"#000000\" d=\"M16.5576,-89.9907C10.7426,-84.1235 5.0348,-76.9018 1.9612,-69 -1.9612,-58.9164 2.5603,-48.724 9.3877,-40.1296\"/>\n",
       "<polygon fill=\"#000000\" stroke=\"#000000\" points=\"11.9787,-42.4826 16.1299,-32.7349 6.806,-37.7663 11.9787,-42.4826\"/>\n",
       "<text text-anchor=\"middle\" x=\"24.4612\" y=\"-57.8\" font-family=\"Times,serif\" font-size=\"14.00\" fill=\"#000000\">0.33330</text>\n",
       "</g>\n",
       "<!-- Sunny&#45;&gt;Rainy -->\n",
       "<g id=\"edge3\" class=\"edge\">\n",
       "<title>Sunny&#45;&gt;Rainy</title>\n",
       "<path fill=\"none\" stroke=\"#000000\" d=\"M42.6834,-35.8149C46.0089,-45.5532 48.7679,-57.8666 46.9612,-69 46.4962,-71.8654 45.8358,-74.8109 45.061,-77.7241\"/>\n",
       "<polygon fill=\"#000000\" stroke=\"#000000\" points=\"41.6978,-76.7534 42.1039,-87.3405 48.3886,-78.8109 41.6978,-76.7534\"/>\n",
       "<text text-anchor=\"middle\" x=\"69.4612\" y=\"-57.8\" font-family=\"Times,serif\" font-size=\"14.00\" fill=\"#000000\">0.66660</text>\n",
       "</g>\n",
       "<!-- Sunny&#45;&gt;Sunny -->\n",
       "<g id=\"edge4\" class=\"edge\">\n",
       "<title>Sunny&#45;&gt;Sunny</title>\n",
       "<path fill=\"none\" stroke=\"#000000\" d=\"M64.2738,-25.8361C75.817,-26.2312 85.4583,-23.6191 85.4583,-18 85.4583,-14.1368 80.9013,-11.695 74.3021,-10.6745\"/>\n",
       "<polygon fill=\"#000000\" stroke=\"#000000\" points=\"74.4388,-7.177 64.2738,-10.1639 74.0828,-14.168 74.4388,-7.177\"/>\n",
       "<text text-anchor=\"middle\" x=\"107.9583\" y=\"-14.3\" font-family=\"Times,serif\" font-size=\"14.00\" fill=\"#000000\">0.33340</text>\n",
       "</g>\n",
       "</g>\n",
       "</svg>\n"
      ],
      "text/plain": [
       "<graphviz.dot.Digraph at 0x7f56b692b320>"
      ]
     },
     "metadata": {},
     "output_type": "display_data"
    },
    {
     "name": "stdout",
     "output_type": "stream",
     "text": [
      "====================\n",
      "T^5\n"
     ]
    },
    {
     "data": {
      "image/svg+xml": [
       "<?xml version=\"1.0\" encoding=\"UTF-8\" standalone=\"no\"?>\n",
       "<!DOCTYPE svg PUBLIC \"-//W3C//DTD SVG 1.1//EN\"\n",
       " \"http://www.w3.org/Graphics/SVG/1.1/DTD/svg11.dtd\">\n",
       "<!-- Generated by graphviz version 2.40.1 (20161225.0304)\n",
       " -->\n",
       "<!-- Title: %3 Pages: 1 -->\n",
       "<svg width=\"138pt\" height=\"131pt\"\n",
       " viewBox=\"0.00 0.00 138.46 131.00\" xmlns=\"http://www.w3.org/2000/svg\" xmlns:xlink=\"http://www.w3.org/1999/xlink\">\n",
       "<g id=\"graph0\" class=\"graph\" transform=\"scale(1 1) rotate(0) translate(4 127)\">\n",
       "<title>%3</title>\n",
       "<polygon fill=\"#ffffff\" stroke=\"transparent\" points=\"-4,4 -4,-127 134.4583,-127 134.4583,4 -4,4\"/>\n",
       "<!-- Rainy -->\n",
       "<g id=\"node1\" class=\"node\">\n",
       "<title>Rainy</title>\n",
       "<ellipse fill=\"none\" stroke=\"#000000\" cx=\"34.9612\" cy=\"-105\" rx=\"31.3957\" ry=\"18\"/>\n",
       "<text text-anchor=\"middle\" x=\"34.9612\" y=\"-101.3\" font-family=\"Times,serif\" font-size=\"14.00\" fill=\"#000000\">Rainy</text>\n",
       "</g>\n",
       "<!-- Rainy&#45;&gt;Rainy -->\n",
       "<g id=\"edge1\" class=\"edge\">\n",
       "<title>Rainy&#45;&gt;Rainy</title>\n",
       "<path fill=\"none\" stroke=\"#000000\" d=\"M63.2726,-112.8269C74.6276,-113.2691 84.1584,-110.6602 84.1584,-105 84.1584,-101.1971 79.8561,-98.7715 73.5887,-97.7233\"/>\n",
       "<polygon fill=\"#000000\" stroke=\"#000000\" points=\"73.4449,-94.2107 63.2726,-97.1731 73.072,-101.2008 73.4449,-94.2107\"/>\n",
       "<text text-anchor=\"middle\" x=\"106.6584\" y=\"-101.3\" font-family=\"Times,serif\" font-size=\"14.00\" fill=\"#000000\">0.66667</text>\n",
       "</g>\n",
       "<!-- Sunny -->\n",
       "<g id=\"node2\" class=\"node\">\n",
       "<title>Sunny</title>\n",
       "<ellipse fill=\"none\" stroke=\"#000000\" cx=\"34.9612\" cy=\"-18\" rx=\"32.4942\" ry=\"18\"/>\n",
       "<text text-anchor=\"middle\" x=\"34.9612\" y=\"-14.3\" font-family=\"Times,serif\" font-size=\"14.00\" fill=\"#000000\">Sunny</text>\n",
       "</g>\n",
       "<!-- Rainy&#45;&gt;Sunny -->\n",
       "<g id=\"edge2\" class=\"edge\">\n",
       "<title>Rainy&#45;&gt;Sunny</title>\n",
       "<path fill=\"none\" stroke=\"#000000\" d=\"M16.5576,-89.9907C10.7426,-84.1235 5.0348,-76.9018 1.9612,-69 -1.9612,-58.9164 2.5603,-48.724 9.3877,-40.1296\"/>\n",
       "<polygon fill=\"#000000\" stroke=\"#000000\" points=\"11.9787,-42.4826 16.1299,-32.7349 6.806,-37.7663 11.9787,-42.4826\"/>\n",
       "<text text-anchor=\"middle\" x=\"24.4612\" y=\"-57.8\" font-family=\"Times,serif\" font-size=\"14.00\" fill=\"#000000\">0.33333</text>\n",
       "</g>\n",
       "<!-- Sunny&#45;&gt;Rainy -->\n",
       "<g id=\"edge3\" class=\"edge\">\n",
       "<title>Sunny&#45;&gt;Rainy</title>\n",
       "<path fill=\"none\" stroke=\"#000000\" d=\"M42.6834,-35.8149C46.0089,-45.5532 48.7679,-57.8666 46.9612,-69 46.4962,-71.8654 45.8358,-74.8109 45.061,-77.7241\"/>\n",
       "<polygon fill=\"#000000\" stroke=\"#000000\" points=\"41.6978,-76.7534 42.1039,-87.3405 48.3886,-78.8109 41.6978,-76.7534\"/>\n",
       "<text text-anchor=\"middle\" x=\"69.4612\" y=\"-57.8\" font-family=\"Times,serif\" font-size=\"14.00\" fill=\"#000000\">0.66666</text>\n",
       "</g>\n",
       "<!-- Sunny&#45;&gt;Sunny -->\n",
       "<g id=\"edge4\" class=\"edge\">\n",
       "<title>Sunny&#45;&gt;Sunny</title>\n",
       "<path fill=\"none\" stroke=\"#000000\" d=\"M64.2738,-25.8361C75.817,-26.2312 85.4583,-23.6191 85.4583,-18 85.4583,-14.1368 80.9013,-11.695 74.3021,-10.6745\"/>\n",
       "<polygon fill=\"#000000\" stroke=\"#000000\" points=\"74.4388,-7.177 64.2738,-10.1639 74.0828,-14.168 74.4388,-7.177\"/>\n",
       "<text text-anchor=\"middle\" x=\"107.9583\" y=\"-14.3\" font-family=\"Times,serif\" font-size=\"14.00\" fill=\"#000000\">0.33334</text>\n",
       "</g>\n",
       "</g>\n",
       "</svg>\n"
      ],
      "text/plain": [
       "<graphviz.dot.Digraph at 0x7f56b6af9da0>"
      ]
     },
     "metadata": {},
     "output_type": "display_data"
    },
    {
     "name": "stdout",
     "output_type": "stream",
     "text": [
      "====================\n",
      "T^6\n"
     ]
    },
    {
     "data": {
      "image/svg+xml": [
       "<?xml version=\"1.0\" encoding=\"UTF-8\" standalone=\"no\"?>\n",
       "<!DOCTYPE svg PUBLIC \"-//W3C//DTD SVG 1.1//EN\"\n",
       " \"http://www.w3.org/Graphics/SVG/1.1/DTD/svg11.dtd\">\n",
       "<!-- Generated by graphviz version 2.40.1 (20161225.0304)\n",
       " -->\n",
       "<!-- Title: %3 Pages: 1 -->\n",
       "<svg width=\"138pt\" height=\"131pt\"\n",
       " viewBox=\"0.00 0.00 138.46 131.00\" xmlns=\"http://www.w3.org/2000/svg\" xmlns:xlink=\"http://www.w3.org/1999/xlink\">\n",
       "<g id=\"graph0\" class=\"graph\" transform=\"scale(1 1) rotate(0) translate(4 127)\">\n",
       "<title>%3</title>\n",
       "<polygon fill=\"#ffffff\" stroke=\"transparent\" points=\"-4,4 -4,-127 134.4583,-127 134.4583,4 -4,4\"/>\n",
       "<!-- Rainy -->\n",
       "<g id=\"node1\" class=\"node\">\n",
       "<title>Rainy</title>\n",
       "<ellipse fill=\"none\" stroke=\"#000000\" cx=\"34.9612\" cy=\"-105\" rx=\"31.3957\" ry=\"18\"/>\n",
       "<text text-anchor=\"middle\" x=\"34.9612\" y=\"-101.3\" font-family=\"Times,serif\" font-size=\"14.00\" fill=\"#000000\">Rainy</text>\n",
       "</g>\n",
       "<!-- Rainy&#45;&gt;Rainy -->\n",
       "<g id=\"edge1\" class=\"edge\">\n",
       "<title>Rainy&#45;&gt;Rainy</title>\n",
       "<path fill=\"none\" stroke=\"#000000\" d=\"M63.2726,-112.8269C74.6276,-113.2691 84.1584,-110.6602 84.1584,-105 84.1584,-101.1971 79.8561,-98.7715 73.5887,-97.7233\"/>\n",
       "<polygon fill=\"#000000\" stroke=\"#000000\" points=\"73.4449,-94.2107 63.2726,-97.1731 73.072,-101.2008 73.4449,-94.2107\"/>\n",
       "<text text-anchor=\"middle\" x=\"106.6584\" y=\"-101.3\" font-family=\"Times,serif\" font-size=\"14.00\" fill=\"#000000\">0.66667</text>\n",
       "</g>\n",
       "<!-- Sunny -->\n",
       "<g id=\"node2\" class=\"node\">\n",
       "<title>Sunny</title>\n",
       "<ellipse fill=\"none\" stroke=\"#000000\" cx=\"34.9612\" cy=\"-18\" rx=\"32.4942\" ry=\"18\"/>\n",
       "<text text-anchor=\"middle\" x=\"34.9612\" y=\"-14.3\" font-family=\"Times,serif\" font-size=\"14.00\" fill=\"#000000\">Sunny</text>\n",
       "</g>\n",
       "<!-- Rainy&#45;&gt;Sunny -->\n",
       "<g id=\"edge2\" class=\"edge\">\n",
       "<title>Rainy&#45;&gt;Sunny</title>\n",
       "<path fill=\"none\" stroke=\"#000000\" d=\"M16.5576,-89.9907C10.7426,-84.1235 5.0348,-76.9018 1.9612,-69 -1.9612,-58.9164 2.5603,-48.724 9.3877,-40.1296\"/>\n",
       "<polygon fill=\"#000000\" stroke=\"#000000\" points=\"11.9787,-42.4826 16.1299,-32.7349 6.806,-37.7663 11.9787,-42.4826\"/>\n",
       "<text text-anchor=\"middle\" x=\"24.4612\" y=\"-57.8\" font-family=\"Times,serif\" font-size=\"14.00\" fill=\"#000000\">0.33333</text>\n",
       "</g>\n",
       "<!-- Sunny&#45;&gt;Rainy -->\n",
       "<g id=\"edge3\" class=\"edge\">\n",
       "<title>Sunny&#45;&gt;Rainy</title>\n",
       "<path fill=\"none\" stroke=\"#000000\" d=\"M42.6834,-35.8149C46.0089,-45.5532 48.7679,-57.8666 46.9612,-69 46.4962,-71.8654 45.8358,-74.8109 45.061,-77.7241\"/>\n",
       "<polygon fill=\"#000000\" stroke=\"#000000\" points=\"41.6978,-76.7534 42.1039,-87.3405 48.3886,-78.8109 41.6978,-76.7534\"/>\n",
       "<text text-anchor=\"middle\" x=\"69.4612\" y=\"-57.8\" font-family=\"Times,serif\" font-size=\"14.00\" fill=\"#000000\">0.66667</text>\n",
       "</g>\n",
       "<!-- Sunny&#45;&gt;Sunny -->\n",
       "<g id=\"edge4\" class=\"edge\">\n",
       "<title>Sunny&#45;&gt;Sunny</title>\n",
       "<path fill=\"none\" stroke=\"#000000\" d=\"M64.2738,-25.8361C75.817,-26.2312 85.4583,-23.6191 85.4583,-18 85.4583,-14.1368 80.9013,-11.695 74.3021,-10.6745\"/>\n",
       "<polygon fill=\"#000000\" stroke=\"#000000\" points=\"74.4388,-7.177 64.2738,-10.1639 74.0828,-14.168 74.4388,-7.177\"/>\n",
       "<text text-anchor=\"middle\" x=\"107.9583\" y=\"-14.3\" font-family=\"Times,serif\" font-size=\"14.00\" fill=\"#000000\">0.33333</text>\n",
       "</g>\n",
       "</g>\n",
       "</svg>\n"
      ],
      "text/plain": [
       "<graphviz.dot.Digraph at 0x7f56b6af9cc0>"
      ]
     },
     "metadata": {},
     "output_type": "display_data"
    },
    {
     "name": "stdout",
     "output_type": "stream",
     "text": [
      "====================\n"
     ]
    }
   ],
   "source": [
    "T_s = T\n",
    "for i in range(5):\n",
    "    T_s = T_s@T\n",
    "    print('T^{}'.format(i + 2))\n",
    "    display(digraph_from_numpy_array(T_s, labels=['Rainy', 'Sunny'], edge_fmt='{:.5f}'))\n",
    "    print('='*20)"
   ]
  }
 ],
 "metadata": {
  "kernelspec": {
   "display_name": "Python 3",
   "language": "python",
   "name": "python3"
  },
  "language_info": {
   "codemirror_mode": {
    "name": "ipython",
    "version": 3
   },
   "file_extension": ".py",
   "mimetype": "text/x-python",
   "name": "python",
   "nbconvert_exporter": "python",
   "pygments_lexer": "ipython3",
   "version": "3.6.1"
  },
  "latex_envs": {
   "LaTeX_envs_menu_present": true,
   "autocomplete": true,
   "bibliofile": "biblio.bib",
   "cite_by": "apalike",
   "current_citInitial": 1,
   "eqLabelWithNumbers": true,
   "eqNumInitial": 1,
   "hotkeys": {
    "equation": "Ctrl-E",
    "itemize": "Ctrl-I"
   },
   "labels_anchors": false,
   "latex_user_defs": false,
   "report_style_numbering": false,
   "user_envs_cfg": false
  },
  "toc": {
   "nav_menu": {
    "height": "417px",
    "width": "535px"
   },
   "number_sections": true,
   "sideBar": true,
   "skip_h1_title": false,
   "toc_cell": false,
   "toc_position": {},
   "toc_section_display": "block",
   "toc_window_display": false
  },
  "varInspector": {
   "cols": {
    "lenName": 16,
    "lenType": 16,
    "lenVar": 40
   },
   "kernels_config": {
    "python": {
     "delete_cmd_postfix": "",
     "delete_cmd_prefix": "del ",
     "library": "var_list.py",
     "varRefreshCmd": "print(var_dic_list())"
    },
    "r": {
     "delete_cmd_postfix": ") ",
     "delete_cmd_prefix": "rm(",
     "library": "var_list.r",
     "varRefreshCmd": "cat(var_dic_list()) "
    }
   },
   "types_to_exclude": [
    "module",
    "function",
    "builtin_function_or_method",
    "instance",
    "_Feature"
   ],
   "window_display": false
  }
 },
 "nbformat": 4,
 "nbformat_minor": 2
}
