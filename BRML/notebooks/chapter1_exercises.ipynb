{
 "cells": [
  {
   "cell_type": "markdown",
   "metadata": {},
   "source": [
    "## Examples"
   ]
  },
  {
   "cell_type": "code",
   "execution_count": 1,
   "metadata": {},
   "outputs": [],
   "source": [
    "import numpy as np\n",
    "import sys\n",
    "sys.path.append('../..')\n",
    "from utils.graph_utils import digraph_from_numpy_array"
   ]
  },
  {
   "cell_type": "markdown",
   "metadata": {},
   "source": [
    "### Probability Tables Example"
   ]
  },
  {
   "cell_type": "code",
   "execution_count": 6,
   "metadata": {},
   "outputs": [],
   "source": [
    "# Country probabilities\n",
    "cnt = np.array([0.88, 0.08, 0.04])\n",
    "# Mother tongue given country probabilities\n",
    "mt_given_cnt = np.array([[.95, .7, .6],\n",
    "                         [.04, .3, .0],\n",
    "                         [.01, .0, .4]])"
   ]
  },
  {
   "cell_type": "code",
   "execution_count": 7,
   "metadata": {},
   "outputs": [
    {
     "data": {
      "text/plain": [
       "array([[ 0.836 ,  0.056 ,  0.024 ],\n",
       "       [ 0.0352,  0.024 ,  0.    ],\n",
       "       [ 0.0088,  0.    ,  0.016 ]])"
      ]
     },
     "execution_count": 7,
     "metadata": {},
     "output_type": "execute_result"
    }
   ],
   "source": [
    "# Matrix containing the joint probabilities at its each entry\n",
    "# This is not a matrix product\n",
    "cnt_and_mt = mt_given_cnt*cnt\n",
    "cnt_and_mt"
   ]
  },
  {
   "cell_type": "code",
   "execution_count": 8,
   "metadata": {},
   "outputs": [
    {
     "data": {
      "text/plain": [
       "array([ 0.88,  0.08,  0.04])"
      ]
     },
     "execution_count": 8,
     "metadata": {},
     "output_type": "execute_result"
    }
   ],
   "source": [
    "# Sum over the mother tongues to get country probabilities\n",
    "np.sum(cnt_and_mt, axis=0)"
   ]
  },
  {
   "cell_type": "code",
   "execution_count": 9,
   "metadata": {},
   "outputs": [
    {
     "data": {
      "text/plain": [
       "array([ 0.916 ,  0.0592,  0.0248])"
      ]
     },
     "execution_count": 9,
     "metadata": {},
     "output_type": "execute_result"
    }
   ],
   "source": [
    "# Sum over the countries to get mother tongue probabilities\n",
    "np.sum(cnt_and_mt, axis=1)"
   ]
  },
  {
   "cell_type": "markdown",
   "metadata": {},
   "source": [
    "### Example 1.3 (Obtaining the Desired Conditional Probability Using Marginalizations)\n",
    "$\n",
    "\\begin{align}\n",
    "p(B \\mid K) &= \\sum_m p(B, m \\mid K) & \\quad\\quad \\text{Marginalize over b} \\\\\n",
    "            &= \\sum_m \\frac{p(B, m, K)}{p(K)} & \\quad\\quad \\text{Conditional to joint} \\\\\n",
    "            &= \\frac{\\sum_m p(B, m, K)}{p(K)} & \\quad\\quad \\text{Sum to nominator} \\\\\n",
    "            &= \\frac{\\sum_m p(B, m, K)}{\\sum_b \\sum_m p(K \\mid b, m)p(b, m)} & \\quad\\quad \\text{Marginalize over m and b} \\\\\n",
    "            &= \\frac{\\sum_m p(B, m, K)}{\\sum_b \\sum_m p(K \\mid b, m)p(b)p(m)} & \\quad\\quad \\text{m and b are independent} \\\\\n",
    "            &= \\frac{\\sum_m p(B, m, K)}{\\sum_b p(b) \\sum_m p(K \\mid b, m)p(m)} & \\quad\\quad \\text{p(b) to outer sum} \\\\\n",
    "            &= \\frac{\\sum_m p(K \\mid B, m)p(B, m)}{\\sum_b p(b) \\sum_m p(K \\mid b, m)p(m)} & \\quad\\quad \\text{Joint to conditional} \\\\\n",
    "            &= \\frac{\\sum_m p(K \\mid B, m)p(B)p(m)}{\\sum_b p(b) \\sum_m p(K \\mid b, m)p(m)} & \\quad\\quad \\text{m and b are independent} \\\\\n",
    "            &= \\frac{p(B) \\sum_m p(K \\mid B, m)p(m)}{\\sum_b p(b) \\sum_m p(K \\mid b, m)p(m)} & \\quad\\quad \\text{p(b) to outer sum} \\\\\n",
    "\\end{align}\n",
    "$"
   ]
  },
  {
   "cell_type": "markdown",
   "metadata": {},
   "source": [
    "### Exercise 1.11 (Soft XOR Gate)"
   ]
  },
  {
   "cell_type": "code",
   "execution_count": 10,
   "metadata": {},
   "outputs": [],
   "source": [
    "def soft_xor(a, b):\n",
    "    \"\"\"\n",
    "    Stochastically outputs 1 depending on a and b.\n",
    "    \"\"\"\n",
    "    high_prob = np.array([0.1, 0.99, 0.8, 0.25])\n",
    "    rand_num = np.random.ranf()\n",
    "    if a == 0 and b == 0:\n",
    "        threshold_index = 0\n",
    "    elif a == 0 and b == 1:\n",
    "        threshold_index = 1\n",
    "    elif a == 1 and b == 0:\n",
    "        threshold_index = 2\n",
    "    elif a == 1 and b == 1:\n",
    "        threshold_index = 3\n",
    "    \n",
    "    if rand_num <= high_prob[threshold_index]:\n",
    "        return 1\n",
    "    return 0"
   ]
  },
  {
   "cell_type": "code",
   "execution_count": 11,
   "metadata": {},
   "outputs": [
    {
     "data": {
      "text/plain": [
       "0.9907"
      ]
     },
     "execution_count": 11,
     "metadata": {},
     "output_type": "execute_result"
    }
   ],
   "source": [
    "num_tries = 10000\n",
    "sum(soft_xor(0, 1) for _ in range(num_tries))/num_tries"
   ]
  },
  {
   "cell_type": "markdown",
   "metadata": {},
   "source": [
    "### Exercise 1.12 (Hamburgers)"
   ]
  },
  {
   "cell_type": "code",
   "execution_count": 12,
   "metadata": {},
   "outputs": [
    {
     "name": "stdout",
     "output_type": "stream",
     "text": [
      "Question 1\n",
      "p(KJ|Hamburger Eater) = 0.000018\n",
      "\n",
      "Question 2\n",
      "p(KJ|Hamburger Eater) = 0.009000\n"
     ]
    }
   ],
   "source": [
    "p_kj = 1/100000\n",
    "p_h_given_kj = 0.9\n",
    "\n",
    "### 1.\n",
    "p_h = 0.5\n",
    "p_kj_given_h = (p_h_given_kj*p_kj)/p_h\n",
    "print('Question 1')\n",
    "print('p(KJ|Hamburger Eater) = {:f}'.format(p_kj_given_h))\n",
    "print()\n",
    "\n",
    "### 2.\n",
    "p_h = 0.001\n",
    "p_kj_given_h = (p_h_given_kj*p_kj)/p_h\n",
    "print('Question 2')\n",
    "print('p(KJ|Hamburger Eater) = {:f}'.format(p_kj_given_h))"
   ]
  },
  {
   "cell_type": "markdown",
   "metadata": {},
   "source": [
    "### Exercise 1.13 (Two Dice)"
   ]
  },
  {
   "cell_type": "code",
   "execution_count": 13,
   "metadata": {},
   "outputs": [
    {
     "name": "stdout",
     "output_type": "stream",
     "text": [
      "Prior = P(sa, sb) = P(sa)P(sb)\n",
      "[[ 0.02777778  0.02777778  0.02777778  0.02777778  0.02777778  0.02777778]\n",
      " [ 0.02777778  0.02777778  0.02777778  0.02777778  0.02777778  0.02777778]\n",
      " [ 0.02777778  0.02777778  0.02777778  0.02777778  0.02777778  0.02777778]\n",
      " [ 0.02777778  0.02777778  0.02777778  0.02777778  0.02777778  0.02777778]\n",
      " [ 0.02777778  0.02777778  0.02777778  0.02777778  0.02777778  0.02777778]\n",
      " [ 0.02777778  0.02777778  0.02777778  0.02777778  0.02777778  0.02777778]]\n",
      "\n",
      "Likelihood = P(t = 9 | sa, sb)\n",
      "[[0 0 0 0 0 0]\n",
      " [0 0 0 0 0 0]\n",
      " [0 0 0 0 0 1]\n",
      " [0 0 0 0 1 0]\n",
      " [0 0 0 1 0 0]\n",
      " [0 0 1 0 0 0]]\n",
      "\n",
      "Joint = P(t = 9, sa, sb) = Likelihood*Prior\n",
      "[[ 0.          0.          0.          0.          0.          0.        ]\n",
      " [ 0.          0.          0.          0.          0.          0.        ]\n",
      " [ 0.          0.          0.          0.          0.          0.02777778]\n",
      " [ 0.          0.          0.          0.          0.02777778  0.        ]\n",
      " [ 0.          0.          0.          0.02777778  0.          0.        ]\n",
      " [ 0.          0.          0.02777778  0.          0.          0.        ]]\n",
      "\n",
      "Posterior = P(sa, sb | t = 9)\n",
      "[[ 0.    0.    0.    0.    0.    0.  ]\n",
      " [ 0.    0.    0.    0.    0.    0.  ]\n",
      " [ 0.    0.    0.    0.    0.    0.25]\n",
      " [ 0.    0.    0.    0.    0.25  0.  ]\n",
      " [ 0.    0.    0.    0.25  0.    0.  ]\n",
      " [ 0.    0.    0.25  0.    0.    0.  ]]\n"
     ]
    }
   ],
   "source": [
    "# Prior\n",
    "p_sa = np.full(6, 1/6)\n",
    "p_sb = np.full(6, 1/6)\n",
    "prior = np.outer(p_sa, p_sb)\n",
    "print('Prior = P(sa, sb) = P(sa)P(sb)')\n",
    "print(prior)\n",
    "print()\n",
    "\n",
    "# Likelihood\n",
    "indices_1d = np.reshape(np.arange(36), (6, 6))\n",
    "dice_sums = (indices_1d//6 + 1) + (indices_1d%6 + 1)\n",
    "likelihood = (dice_sums == 9).astype(int)\n",
    "print('Likelihood = P(t = 9 | sa, sb)')\n",
    "print(likelihood)\n",
    "print()\n",
    "\n",
    "# Normalizer\n",
    "joint = prior*likelihood\n",
    "print('Joint = P(t = 9, sa, sb) = Likelihood*Prior')\n",
    "print(joint)\n",
    "print()\n",
    "normalizer = np.sum(joint)\n",
    "\n",
    "# Posterior\n",
    "posterior = likelihood*prior/normalizer  # joint/normalizer\n",
    "print('Posterior = P(sa, sb | t = 9)')\n",
    "print(posterior)"
   ]
  },
  {
   "cell_type": "markdown",
   "metadata": {},
   "source": [
    "### Exercise 1.19.2"
   ]
  },
  {
   "cell_type": "markdown",
   "metadata": {},
   "source": [
    "$T : \\text{Random variable representing the weather today}$\n",
    "\n",
    "$Y : \\text{Random variable representing the weather yesterday}$\n",
    "\n",
    "Then, we can draw the table for $P(T \\mid Y)$.\n",
    "\n",
    "|   P(T $|$ Y)    | Y = Rainy | Y = Sunny |\n",
    "| --------------- | --------- | --------- |\n",
    "| T = Rainy       |     0.7   |     0.6   |\n",
    "| T = Sunny       |     0.3   |     0.4   |\n",
    "\n",
    "This conditional probability table corresponds to the following Markov Chain."
   ]
  },
  {
   "cell_type": "code",
   "execution_count": 2,
   "metadata": {},
   "outputs": [
    {
     "data": {
      "image/svg+xml": [
       "<?xml version=\"1.0\" encoding=\"UTF-8\" standalone=\"no\"?>\n",
       "<!DOCTYPE svg PUBLIC \"-//W3C//DTD SVG 1.1//EN\"\n",
       " \"http://www.w3.org/Graphics/SVG/1.1/DTD/svg11.dtd\">\n",
       "<!-- Generated by graphviz version 2.40.1 (20161225.0304)\n",
       " -->\n",
       "<!-- Title: %3 Pages: 1 -->\n",
       "<svg width=\"115pt\" height=\"198pt\"\n",
       " viewBox=\"0.00 0.00 114.71 197.59\" xmlns=\"http://www.w3.org/2000/svg\" xmlns:xlink=\"http://www.w3.org/1999/xlink\">\n",
       "<g id=\"graph0\" class=\"graph\" transform=\"scale(1 1) rotate(0) translate(4 193.5929)\">\n",
       "<title>%3</title>\n",
       "<polygon fill=\"#ffffff\" stroke=\"transparent\" points=\"-4,4 -4,-193.5929 110.7107,-193.5929 110.7107,4 -4,4\"/>\n",
       "<!-- Rainy -->\n",
       "<g id=\"node1\" class=\"node\">\n",
       "<title>Rainy</title>\n",
       "<ellipse fill=\"none\" stroke=\"#000000\" cx=\"35.3553\" cy=\"-155.6518\" rx=\"33.8824\" ry=\"33.8824\"/>\n",
       "<text text-anchor=\"middle\" x=\"35.3553\" y=\"-151.9518\" font-family=\"Times,serif\" font-size=\"14.00\" fill=\"#000000\">Rainy</text>\n",
       "</g>\n",
       "<!-- Rainy&#45;&gt;Rainy -->\n",
       "<g id=\"edge1\" class=\"edge\">\n",
       "<title>Rainy&#45;&gt;Rainy</title>\n",
       "<path fill=\"none\" stroke=\"#000000\" d=\"M67.5645,-166.5261C78.5038,-166.5832 87.2965,-162.9584 87.2965,-155.6518 87.2965,-150.8568 83.5098,-147.6475 77.8148,-146.0238\"/>\n",
       "<polygon fill=\"#000000\" stroke=\"#000000\" points=\"77.9139,-142.5102 67.5645,-144.7775 77.0689,-149.459 77.9139,-142.5102\"/>\n",
       "<text text-anchor=\"middle\" x=\"96.2965\" y=\"-151.9518\" font-family=\"Times,serif\" font-size=\"14.00\" fill=\"#000000\">0.7</text>\n",
       "</g>\n",
       "<!-- Sunny -->\n",
       "<g id=\"node2\" class=\"node\">\n",
       "<title>Sunny</title>\n",
       "<ellipse fill=\"none\" stroke=\"#000000\" cx=\"35.3553\" cy=\"-35.3553\" rx=\"35.2113\" ry=\"35.2113\"/>\n",
       "<text text-anchor=\"middle\" x=\"35.3553\" y=\"-31.6553\" font-family=\"Times,serif\" font-size=\"14.00\" fill=\"#000000\">Sunny</text>\n",
       "</g>\n",
       "<!-- Rainy&#45;&gt;Sunny -->\n",
       "<g id=\"edge2\" class=\"edge\">\n",
       "<title>Rainy&#45;&gt;Sunny</title>\n",
       "<path fill=\"none\" stroke=\"#000000\" d=\"M21.8878,-124.2756C19.5919,-117.6049 17.5613,-110.5181 16.3553,-103.7107 14.8264,-95.0806 15.6154,-85.9671 17.5518,-77.3055\"/>\n",
       "<polygon fill=\"#000000\" stroke=\"#000000\" points=\"20.9986,-77.9719 20.2819,-67.4013 14.2503,-76.1116 20.9986,-77.9719\"/>\n",
       "<text text-anchor=\"middle\" x=\"25.3553\" y=\"-92.5107\" font-family=\"Times,serif\" font-size=\"14.00\" fill=\"#000000\">0.3</text>\n",
       "</g>\n",
       "<!-- Sunny&#45;&gt;Rainy -->\n",
       "<g id=\"edge3\" class=\"edge\">\n",
       "<title>Sunny&#45;&gt;Rainy</title>\n",
       "<path fill=\"none\" stroke=\"#000000\" d=\"M35.3553,-70.8483C35.3553,-83.4736 35.3553,-97.8515 35.3553,-111.1362\"/>\n",
       "<polygon fill=\"#000000\" stroke=\"#000000\" points=\"31.8554,-111.5014 35.3553,-121.5014 38.8554,-111.5015 31.8554,-111.5014\"/>\n",
       "<text text-anchor=\"middle\" x=\"44.3553\" y=\"-92.5107\" font-family=\"Times,serif\" font-size=\"14.00\" fill=\"#000000\">0.6</text>\n",
       "</g>\n",
       "<!-- Sunny&#45;&gt;Sunny -->\n",
       "<g id=\"edge4\" class=\"edge\">\n",
       "<title>Sunny&#45;&gt;Sunny</title>\n",
       "<path fill=\"none\" stroke=\"#000000\" d=\"M68.9625,-46.6047C79.9565,-46.5465 88.7107,-42.7967 88.7107,-35.3553 88.7107,-30.4719 84.9406,-27.1783 79.2415,-25.4746\"/>\n",
       "<polygon fill=\"#000000\" stroke=\"#000000\" points=\"79.337,-21.9565 68.9625,-24.106 78.4131,-28.8953 79.337,-21.9565\"/>\n",
       "<text text-anchor=\"middle\" x=\"97.7107\" y=\"-31.6553\" font-family=\"Times,serif\" font-size=\"14.00\" fill=\"#000000\">0.4</text>\n",
       "</g>\n",
       "</g>\n",
       "</svg>\n"
      ],
      "text/plain": [
       "<graphviz.dot.Digraph at 0x7f2e417acd68>"
      ]
     },
     "execution_count": 2,
     "metadata": {},
     "output_type": "execute_result"
    }
   ],
   "source": [
    "# state transition matrix\n",
    "T = np.array([[0.7, 0.3],\n",
    "              [0.6, 0.4]])\n",
    "digraph_from_numpy_array(T, labels=['Rainy', 'Sunny'], edge_fmt='{:.1f}')"
   ]
  },
  {
   "cell_type": "markdown",
   "metadata": {},
   "source": [
    "To answer the second part of the question, we need the steady state transition matrix of this Markov Chain which can be found by multiplying the initial transition matrix with itself sufficiently many times."
   ]
  },
  {
   "cell_type": "code",
   "execution_count": 16,
   "metadata": {},
   "outputs": [
    {
     "name": "stdout",
     "output_type": "stream",
     "text": [
      "T^2\n"
     ]
    },
    {
     "data": {
      "image/svg+xml": [
       "<?xml version=\"1.0\" encoding=\"UTF-8\" standalone=\"no\"?>\n",
       "<!DOCTYPE svg PUBLIC \"-//W3C//DTD SVG 1.1//EN\"\n",
       " \"http://www.w3.org/Graphics/SVG/1.1/DTD/svg11.dtd\">\n",
       "<!-- Generated by graphviz version 2.40.1 (20161225.0304)\n",
       " -->\n",
       "<!-- Title: %3 Pages: 1 -->\n",
       "<svg width=\"142pt\" height=\"198pt\"\n",
       " viewBox=\"0.00 0.00 141.71 197.59\" xmlns=\"http://www.w3.org/2000/svg\" xmlns:xlink=\"http://www.w3.org/1999/xlink\">\n",
       "<g id=\"graph0\" class=\"graph\" transform=\"scale(1 1) rotate(0) translate(4 193.5929)\">\n",
       "<title>%3</title>\n",
       "<polygon fill=\"#ffffff\" stroke=\"transparent\" points=\"-4,4 -4,-193.5929 137.7107,-193.5929 137.7107,4 -4,4\"/>\n",
       "<!-- Rainy -->\n",
       "<g id=\"node1\" class=\"node\">\n",
       "<title>Rainy</title>\n",
       "<ellipse fill=\"none\" stroke=\"#000000\" cx=\"35.3553\" cy=\"-155.6518\" rx=\"33.8824\" ry=\"33.8824\"/>\n",
       "<text text-anchor=\"middle\" x=\"35.3553\" y=\"-151.9518\" font-family=\"Times,serif\" font-size=\"14.00\" fill=\"#000000\">Rainy</text>\n",
       "</g>\n",
       "<!-- Rainy&#45;&gt;Rainy -->\n",
       "<g id=\"edge1\" class=\"edge\">\n",
       "<title>Rainy&#45;&gt;Rainy</title>\n",
       "<path fill=\"none\" stroke=\"#000000\" d=\"M67.5645,-166.5261C78.5038,-166.5832 87.2965,-162.9584 87.2965,-155.6518 87.2965,-150.8568 83.5098,-147.6475 77.8148,-146.0238\"/>\n",
       "<polygon fill=\"#000000\" stroke=\"#000000\" points=\"77.9139,-142.5102 67.5645,-144.7775 77.0689,-149.459 77.9139,-142.5102\"/>\n",
       "<text text-anchor=\"middle\" x=\"109.7965\" y=\"-151.9518\" font-family=\"Times,serif\" font-size=\"14.00\" fill=\"#000000\">0.67000</text>\n",
       "</g>\n",
       "<!-- Sunny -->\n",
       "<g id=\"node2\" class=\"node\">\n",
       "<title>Sunny</title>\n",
       "<ellipse fill=\"none\" stroke=\"#000000\" cx=\"35.3553\" cy=\"-35.3553\" rx=\"35.2113\" ry=\"35.2113\"/>\n",
       "<text text-anchor=\"middle\" x=\"35.3553\" y=\"-31.6553\" font-family=\"Times,serif\" font-size=\"14.00\" fill=\"#000000\">Sunny</text>\n",
       "</g>\n",
       "<!-- Rainy&#45;&gt;Sunny -->\n",
       "<g id=\"edge2\" class=\"edge\">\n",
       "<title>Rainy&#45;&gt;Sunny</title>\n",
       "<path fill=\"none\" stroke=\"#000000\" d=\"M14.2479,-128.7587C9.381,-121.0861 4.8911,-112.4305 2.3553,-103.7107 -.8607,-92.6516 1.9655,-81.1766 7.0831,-70.8586\"/>\n",
       "<polygon fill=\"#000000\" stroke=\"#000000\" points=\"10.1495,-72.5469 12.0759,-62.1286 4.073,-69.0716 10.1495,-72.5469\"/>\n",
       "<text text-anchor=\"middle\" x=\"24.8553\" y=\"-92.5107\" font-family=\"Times,serif\" font-size=\"14.00\" fill=\"#000000\">0.33000</text>\n",
       "</g>\n",
       "<!-- Sunny&#45;&gt;Rainy -->\n",
       "<g id=\"edge3\" class=\"edge\">\n",
       "<title>Sunny&#45;&gt;Rainy</title>\n",
       "<path fill=\"none\" stroke=\"#000000\" d=\"M45.2311,-69.3117C47.3612,-80.2526 48.6383,-92.4578 47.3553,-103.7107 47.0261,-106.5986 46.597,-109.5598 46.0975,-112.5326\"/>\n",
       "<polygon fill=\"#000000\" stroke=\"#000000\" points=\"42.6137,-112.1164 44.1711,-122.5961 49.4889,-113.4325 42.6137,-112.1164\"/>\n",
       "<text text-anchor=\"middle\" x=\"69.8553\" y=\"-92.5107\" font-family=\"Times,serif\" font-size=\"14.00\" fill=\"#000000\">0.66000</text>\n",
       "</g>\n",
       "<!-- Sunny&#45;&gt;Sunny -->\n",
       "<g id=\"edge4\" class=\"edge\">\n",
       "<title>Sunny&#45;&gt;Sunny</title>\n",
       "<path fill=\"none\" stroke=\"#000000\" d=\"M68.9625,-46.6047C79.9565,-46.5465 88.7107,-42.7967 88.7107,-35.3553 88.7107,-30.4719 84.9406,-27.1783 79.2415,-25.4746\"/>\n",
       "<polygon fill=\"#000000\" stroke=\"#000000\" points=\"79.337,-21.9565 68.9625,-24.106 78.4131,-28.8953 79.337,-21.9565\"/>\n",
       "<text text-anchor=\"middle\" x=\"111.2107\" y=\"-31.6553\" font-family=\"Times,serif\" font-size=\"14.00\" fill=\"#000000\">0.34000</text>\n",
       "</g>\n",
       "</g>\n",
       "</svg>\n"
      ],
      "text/plain": [
       "<graphviz.dot.Digraph at 0x7fbe381a5a20>"
      ]
     },
     "metadata": {},
     "output_type": "display_data"
    },
    {
     "name": "stdout",
     "output_type": "stream",
     "text": [
      "====================\n",
      "T^3\n"
     ]
    },
    {
     "data": {
      "image/svg+xml": [
       "<?xml version=\"1.0\" encoding=\"UTF-8\" standalone=\"no\"?>\n",
       "<!DOCTYPE svg PUBLIC \"-//W3C//DTD SVG 1.1//EN\"\n",
       " \"http://www.w3.org/Graphics/SVG/1.1/DTD/svg11.dtd\">\n",
       "<!-- Generated by graphviz version 2.40.1 (20161225.0304)\n",
       " -->\n",
       "<!-- Title: %3 Pages: 1 -->\n",
       "<svg width=\"142pt\" height=\"198pt\"\n",
       " viewBox=\"0.00 0.00 141.71 197.59\" xmlns=\"http://www.w3.org/2000/svg\" xmlns:xlink=\"http://www.w3.org/1999/xlink\">\n",
       "<g id=\"graph0\" class=\"graph\" transform=\"scale(1 1) rotate(0) translate(4 193.5929)\">\n",
       "<title>%3</title>\n",
       "<polygon fill=\"#ffffff\" stroke=\"transparent\" points=\"-4,4 -4,-193.5929 137.7107,-193.5929 137.7107,4 -4,4\"/>\n",
       "<!-- Rainy -->\n",
       "<g id=\"node1\" class=\"node\">\n",
       "<title>Rainy</title>\n",
       "<ellipse fill=\"none\" stroke=\"#000000\" cx=\"35.3553\" cy=\"-155.6518\" rx=\"33.8824\" ry=\"33.8824\"/>\n",
       "<text text-anchor=\"middle\" x=\"35.3553\" y=\"-151.9518\" font-family=\"Times,serif\" font-size=\"14.00\" fill=\"#000000\">Rainy</text>\n",
       "</g>\n",
       "<!-- Rainy&#45;&gt;Rainy -->\n",
       "<g id=\"edge1\" class=\"edge\">\n",
       "<title>Rainy&#45;&gt;Rainy</title>\n",
       "<path fill=\"none\" stroke=\"#000000\" d=\"M67.5645,-166.5261C78.5038,-166.5832 87.2965,-162.9584 87.2965,-155.6518 87.2965,-150.8568 83.5098,-147.6475 77.8148,-146.0238\"/>\n",
       "<polygon fill=\"#000000\" stroke=\"#000000\" points=\"77.9139,-142.5102 67.5645,-144.7775 77.0689,-149.459 77.9139,-142.5102\"/>\n",
       "<text text-anchor=\"middle\" x=\"109.7965\" y=\"-151.9518\" font-family=\"Times,serif\" font-size=\"14.00\" fill=\"#000000\">0.66700</text>\n",
       "</g>\n",
       "<!-- Sunny -->\n",
       "<g id=\"node2\" class=\"node\">\n",
       "<title>Sunny</title>\n",
       "<ellipse fill=\"none\" stroke=\"#000000\" cx=\"35.3553\" cy=\"-35.3553\" rx=\"35.2113\" ry=\"35.2113\"/>\n",
       "<text text-anchor=\"middle\" x=\"35.3553\" y=\"-31.6553\" font-family=\"Times,serif\" font-size=\"14.00\" fill=\"#000000\">Sunny</text>\n",
       "</g>\n",
       "<!-- Rainy&#45;&gt;Sunny -->\n",
       "<g id=\"edge2\" class=\"edge\">\n",
       "<title>Rainy&#45;&gt;Sunny</title>\n",
       "<path fill=\"none\" stroke=\"#000000\" d=\"M14.2479,-128.7587C9.381,-121.0861 4.8911,-112.4305 2.3553,-103.7107 -.8607,-92.6516 1.9655,-81.1766 7.0831,-70.8586\"/>\n",
       "<polygon fill=\"#000000\" stroke=\"#000000\" points=\"10.1495,-72.5469 12.0759,-62.1286 4.073,-69.0716 10.1495,-72.5469\"/>\n",
       "<text text-anchor=\"middle\" x=\"24.8553\" y=\"-92.5107\" font-family=\"Times,serif\" font-size=\"14.00\" fill=\"#000000\">0.33300</text>\n",
       "</g>\n",
       "<!-- Sunny&#45;&gt;Rainy -->\n",
       "<g id=\"edge3\" class=\"edge\">\n",
       "<title>Sunny&#45;&gt;Rainy</title>\n",
       "<path fill=\"none\" stroke=\"#000000\" d=\"M45.2311,-69.3117C47.3612,-80.2526 48.6383,-92.4578 47.3553,-103.7107 47.0261,-106.5986 46.597,-109.5598 46.0975,-112.5326\"/>\n",
       "<polygon fill=\"#000000\" stroke=\"#000000\" points=\"42.6137,-112.1164 44.1711,-122.5961 49.4889,-113.4325 42.6137,-112.1164\"/>\n",
       "<text text-anchor=\"middle\" x=\"69.8553\" y=\"-92.5107\" font-family=\"Times,serif\" font-size=\"14.00\" fill=\"#000000\">0.66600</text>\n",
       "</g>\n",
       "<!-- Sunny&#45;&gt;Sunny -->\n",
       "<g id=\"edge4\" class=\"edge\">\n",
       "<title>Sunny&#45;&gt;Sunny</title>\n",
       "<path fill=\"none\" stroke=\"#000000\" d=\"M68.9625,-46.6047C79.9565,-46.5465 88.7107,-42.7967 88.7107,-35.3553 88.7107,-30.4719 84.9406,-27.1783 79.2415,-25.4746\"/>\n",
       "<polygon fill=\"#000000\" stroke=\"#000000\" points=\"79.337,-21.9565 68.9625,-24.106 78.4131,-28.8953 79.337,-21.9565\"/>\n",
       "<text text-anchor=\"middle\" x=\"111.2107\" y=\"-31.6553\" font-family=\"Times,serif\" font-size=\"14.00\" fill=\"#000000\">0.33400</text>\n",
       "</g>\n",
       "</g>\n",
       "</svg>\n"
      ],
      "text/plain": [
       "<graphviz.dot.Digraph at 0x7fbe381a56a0>"
      ]
     },
     "metadata": {},
     "output_type": "display_data"
    },
    {
     "name": "stdout",
     "output_type": "stream",
     "text": [
      "====================\n",
      "T^4\n"
     ]
    },
    {
     "data": {
      "image/svg+xml": [
       "<?xml version=\"1.0\" encoding=\"UTF-8\" standalone=\"no\"?>\n",
       "<!DOCTYPE svg PUBLIC \"-//W3C//DTD SVG 1.1//EN\"\n",
       " \"http://www.w3.org/Graphics/SVG/1.1/DTD/svg11.dtd\">\n",
       "<!-- Generated by graphviz version 2.40.1 (20161225.0304)\n",
       " -->\n",
       "<!-- Title: %3 Pages: 1 -->\n",
       "<svg width=\"142pt\" height=\"198pt\"\n",
       " viewBox=\"0.00 0.00 141.71 197.59\" xmlns=\"http://www.w3.org/2000/svg\" xmlns:xlink=\"http://www.w3.org/1999/xlink\">\n",
       "<g id=\"graph0\" class=\"graph\" transform=\"scale(1 1) rotate(0) translate(4 193.5929)\">\n",
       "<title>%3</title>\n",
       "<polygon fill=\"#ffffff\" stroke=\"transparent\" points=\"-4,4 -4,-193.5929 137.7107,-193.5929 137.7107,4 -4,4\"/>\n",
       "<!-- Rainy -->\n",
       "<g id=\"node1\" class=\"node\">\n",
       "<title>Rainy</title>\n",
       "<ellipse fill=\"none\" stroke=\"#000000\" cx=\"35.3553\" cy=\"-155.6518\" rx=\"33.8824\" ry=\"33.8824\"/>\n",
       "<text text-anchor=\"middle\" x=\"35.3553\" y=\"-151.9518\" font-family=\"Times,serif\" font-size=\"14.00\" fill=\"#000000\">Rainy</text>\n",
       "</g>\n",
       "<!-- Rainy&#45;&gt;Rainy -->\n",
       "<g id=\"edge1\" class=\"edge\">\n",
       "<title>Rainy&#45;&gt;Rainy</title>\n",
       "<path fill=\"none\" stroke=\"#000000\" d=\"M67.5645,-166.5261C78.5038,-166.5832 87.2965,-162.9584 87.2965,-155.6518 87.2965,-150.8568 83.5098,-147.6475 77.8148,-146.0238\"/>\n",
       "<polygon fill=\"#000000\" stroke=\"#000000\" points=\"77.9139,-142.5102 67.5645,-144.7775 77.0689,-149.459 77.9139,-142.5102\"/>\n",
       "<text text-anchor=\"middle\" x=\"109.7965\" y=\"-151.9518\" font-family=\"Times,serif\" font-size=\"14.00\" fill=\"#000000\">0.66670</text>\n",
       "</g>\n",
       "<!-- Sunny -->\n",
       "<g id=\"node2\" class=\"node\">\n",
       "<title>Sunny</title>\n",
       "<ellipse fill=\"none\" stroke=\"#000000\" cx=\"35.3553\" cy=\"-35.3553\" rx=\"35.2113\" ry=\"35.2113\"/>\n",
       "<text text-anchor=\"middle\" x=\"35.3553\" y=\"-31.6553\" font-family=\"Times,serif\" font-size=\"14.00\" fill=\"#000000\">Sunny</text>\n",
       "</g>\n",
       "<!-- Rainy&#45;&gt;Sunny -->\n",
       "<g id=\"edge2\" class=\"edge\">\n",
       "<title>Rainy&#45;&gt;Sunny</title>\n",
       "<path fill=\"none\" stroke=\"#000000\" d=\"M14.2479,-128.7587C9.381,-121.0861 4.8911,-112.4305 2.3553,-103.7107 -.8607,-92.6516 1.9655,-81.1766 7.0831,-70.8586\"/>\n",
       "<polygon fill=\"#000000\" stroke=\"#000000\" points=\"10.1495,-72.5469 12.0759,-62.1286 4.073,-69.0716 10.1495,-72.5469\"/>\n",
       "<text text-anchor=\"middle\" x=\"24.8553\" y=\"-92.5107\" font-family=\"Times,serif\" font-size=\"14.00\" fill=\"#000000\">0.33330</text>\n",
       "</g>\n",
       "<!-- Sunny&#45;&gt;Rainy -->\n",
       "<g id=\"edge3\" class=\"edge\">\n",
       "<title>Sunny&#45;&gt;Rainy</title>\n",
       "<path fill=\"none\" stroke=\"#000000\" d=\"M45.2311,-69.3117C47.3612,-80.2526 48.6383,-92.4578 47.3553,-103.7107 47.0261,-106.5986 46.597,-109.5598 46.0975,-112.5326\"/>\n",
       "<polygon fill=\"#000000\" stroke=\"#000000\" points=\"42.6137,-112.1164 44.1711,-122.5961 49.4889,-113.4325 42.6137,-112.1164\"/>\n",
       "<text text-anchor=\"middle\" x=\"69.8553\" y=\"-92.5107\" font-family=\"Times,serif\" font-size=\"14.00\" fill=\"#000000\">0.66660</text>\n",
       "</g>\n",
       "<!-- Sunny&#45;&gt;Sunny -->\n",
       "<g id=\"edge4\" class=\"edge\">\n",
       "<title>Sunny&#45;&gt;Sunny</title>\n",
       "<path fill=\"none\" stroke=\"#000000\" d=\"M68.9625,-46.6047C79.9565,-46.5465 88.7107,-42.7967 88.7107,-35.3553 88.7107,-30.4719 84.9406,-27.1783 79.2415,-25.4746\"/>\n",
       "<polygon fill=\"#000000\" stroke=\"#000000\" points=\"79.337,-21.9565 68.9625,-24.106 78.4131,-28.8953 79.337,-21.9565\"/>\n",
       "<text text-anchor=\"middle\" x=\"111.2107\" y=\"-31.6553\" font-family=\"Times,serif\" font-size=\"14.00\" fill=\"#000000\">0.33340</text>\n",
       "</g>\n",
       "</g>\n",
       "</svg>\n"
      ],
      "text/plain": [
       "<graphviz.dot.Digraph at 0x7fbe381a5668>"
      ]
     },
     "metadata": {},
     "output_type": "display_data"
    },
    {
     "name": "stdout",
     "output_type": "stream",
     "text": [
      "====================\n",
      "T^5\n"
     ]
    },
    {
     "data": {
      "image/svg+xml": [
       "<?xml version=\"1.0\" encoding=\"UTF-8\" standalone=\"no\"?>\n",
       "<!DOCTYPE svg PUBLIC \"-//W3C//DTD SVG 1.1//EN\"\n",
       " \"http://www.w3.org/Graphics/SVG/1.1/DTD/svg11.dtd\">\n",
       "<!-- Generated by graphviz version 2.40.1 (20161225.0304)\n",
       " -->\n",
       "<!-- Title: %3 Pages: 1 -->\n",
       "<svg width=\"142pt\" height=\"198pt\"\n",
       " viewBox=\"0.00 0.00 141.71 197.59\" xmlns=\"http://www.w3.org/2000/svg\" xmlns:xlink=\"http://www.w3.org/1999/xlink\">\n",
       "<g id=\"graph0\" class=\"graph\" transform=\"scale(1 1) rotate(0) translate(4 193.5929)\">\n",
       "<title>%3</title>\n",
       "<polygon fill=\"#ffffff\" stroke=\"transparent\" points=\"-4,4 -4,-193.5929 137.7107,-193.5929 137.7107,4 -4,4\"/>\n",
       "<!-- Rainy -->\n",
       "<g id=\"node1\" class=\"node\">\n",
       "<title>Rainy</title>\n",
       "<ellipse fill=\"none\" stroke=\"#000000\" cx=\"35.3553\" cy=\"-155.6518\" rx=\"33.8824\" ry=\"33.8824\"/>\n",
       "<text text-anchor=\"middle\" x=\"35.3553\" y=\"-151.9518\" font-family=\"Times,serif\" font-size=\"14.00\" fill=\"#000000\">Rainy</text>\n",
       "</g>\n",
       "<!-- Rainy&#45;&gt;Rainy -->\n",
       "<g id=\"edge1\" class=\"edge\">\n",
       "<title>Rainy&#45;&gt;Rainy</title>\n",
       "<path fill=\"none\" stroke=\"#000000\" d=\"M67.5645,-166.5261C78.5038,-166.5832 87.2965,-162.9584 87.2965,-155.6518 87.2965,-150.8568 83.5098,-147.6475 77.8148,-146.0238\"/>\n",
       "<polygon fill=\"#000000\" stroke=\"#000000\" points=\"77.9139,-142.5102 67.5645,-144.7775 77.0689,-149.459 77.9139,-142.5102\"/>\n",
       "<text text-anchor=\"middle\" x=\"109.7965\" y=\"-151.9518\" font-family=\"Times,serif\" font-size=\"14.00\" fill=\"#000000\">0.66667</text>\n",
       "</g>\n",
       "<!-- Sunny -->\n",
       "<g id=\"node2\" class=\"node\">\n",
       "<title>Sunny</title>\n",
       "<ellipse fill=\"none\" stroke=\"#000000\" cx=\"35.3553\" cy=\"-35.3553\" rx=\"35.2113\" ry=\"35.2113\"/>\n",
       "<text text-anchor=\"middle\" x=\"35.3553\" y=\"-31.6553\" font-family=\"Times,serif\" font-size=\"14.00\" fill=\"#000000\">Sunny</text>\n",
       "</g>\n",
       "<!-- Rainy&#45;&gt;Sunny -->\n",
       "<g id=\"edge2\" class=\"edge\">\n",
       "<title>Rainy&#45;&gt;Sunny</title>\n",
       "<path fill=\"none\" stroke=\"#000000\" d=\"M14.2479,-128.7587C9.381,-121.0861 4.8911,-112.4305 2.3553,-103.7107 -.8607,-92.6516 1.9655,-81.1766 7.0831,-70.8586\"/>\n",
       "<polygon fill=\"#000000\" stroke=\"#000000\" points=\"10.1495,-72.5469 12.0759,-62.1286 4.073,-69.0716 10.1495,-72.5469\"/>\n",
       "<text text-anchor=\"middle\" x=\"24.8553\" y=\"-92.5107\" font-family=\"Times,serif\" font-size=\"14.00\" fill=\"#000000\">0.33333</text>\n",
       "</g>\n",
       "<!-- Sunny&#45;&gt;Rainy -->\n",
       "<g id=\"edge3\" class=\"edge\">\n",
       "<title>Sunny&#45;&gt;Rainy</title>\n",
       "<path fill=\"none\" stroke=\"#000000\" d=\"M45.2311,-69.3117C47.3612,-80.2526 48.6383,-92.4578 47.3553,-103.7107 47.0261,-106.5986 46.597,-109.5598 46.0975,-112.5326\"/>\n",
       "<polygon fill=\"#000000\" stroke=\"#000000\" points=\"42.6137,-112.1164 44.1711,-122.5961 49.4889,-113.4325 42.6137,-112.1164\"/>\n",
       "<text text-anchor=\"middle\" x=\"69.8553\" y=\"-92.5107\" font-family=\"Times,serif\" font-size=\"14.00\" fill=\"#000000\">0.66666</text>\n",
       "</g>\n",
       "<!-- Sunny&#45;&gt;Sunny -->\n",
       "<g id=\"edge4\" class=\"edge\">\n",
       "<title>Sunny&#45;&gt;Sunny</title>\n",
       "<path fill=\"none\" stroke=\"#000000\" d=\"M68.9625,-46.6047C79.9565,-46.5465 88.7107,-42.7967 88.7107,-35.3553 88.7107,-30.4719 84.9406,-27.1783 79.2415,-25.4746\"/>\n",
       "<polygon fill=\"#000000\" stroke=\"#000000\" points=\"79.337,-21.9565 68.9625,-24.106 78.4131,-28.8953 79.337,-21.9565\"/>\n",
       "<text text-anchor=\"middle\" x=\"111.2107\" y=\"-31.6553\" font-family=\"Times,serif\" font-size=\"14.00\" fill=\"#000000\">0.33334</text>\n",
       "</g>\n",
       "</g>\n",
       "</svg>\n"
      ],
      "text/plain": [
       "<graphviz.dot.Digraph at 0x7fbe381a5b00>"
      ]
     },
     "metadata": {},
     "output_type": "display_data"
    },
    {
     "name": "stdout",
     "output_type": "stream",
     "text": [
      "====================\n",
      "T^6\n"
     ]
    },
    {
     "data": {
      "image/svg+xml": [
       "<?xml version=\"1.0\" encoding=\"UTF-8\" standalone=\"no\"?>\n",
       "<!DOCTYPE svg PUBLIC \"-//W3C//DTD SVG 1.1//EN\"\n",
       " \"http://www.w3.org/Graphics/SVG/1.1/DTD/svg11.dtd\">\n",
       "<!-- Generated by graphviz version 2.40.1 (20161225.0304)\n",
       " -->\n",
       "<!-- Title: %3 Pages: 1 -->\n",
       "<svg width=\"142pt\" height=\"198pt\"\n",
       " viewBox=\"0.00 0.00 141.71 197.59\" xmlns=\"http://www.w3.org/2000/svg\" xmlns:xlink=\"http://www.w3.org/1999/xlink\">\n",
       "<g id=\"graph0\" class=\"graph\" transform=\"scale(1 1) rotate(0) translate(4 193.5929)\">\n",
       "<title>%3</title>\n",
       "<polygon fill=\"#ffffff\" stroke=\"transparent\" points=\"-4,4 -4,-193.5929 137.7107,-193.5929 137.7107,4 -4,4\"/>\n",
       "<!-- Rainy -->\n",
       "<g id=\"node1\" class=\"node\">\n",
       "<title>Rainy</title>\n",
       "<ellipse fill=\"none\" stroke=\"#000000\" cx=\"35.3553\" cy=\"-155.6518\" rx=\"33.8824\" ry=\"33.8824\"/>\n",
       "<text text-anchor=\"middle\" x=\"35.3553\" y=\"-151.9518\" font-family=\"Times,serif\" font-size=\"14.00\" fill=\"#000000\">Rainy</text>\n",
       "</g>\n",
       "<!-- Rainy&#45;&gt;Rainy -->\n",
       "<g id=\"edge1\" class=\"edge\">\n",
       "<title>Rainy&#45;&gt;Rainy</title>\n",
       "<path fill=\"none\" stroke=\"#000000\" d=\"M67.5645,-166.5261C78.5038,-166.5832 87.2965,-162.9584 87.2965,-155.6518 87.2965,-150.8568 83.5098,-147.6475 77.8148,-146.0238\"/>\n",
       "<polygon fill=\"#000000\" stroke=\"#000000\" points=\"77.9139,-142.5102 67.5645,-144.7775 77.0689,-149.459 77.9139,-142.5102\"/>\n",
       "<text text-anchor=\"middle\" x=\"109.7965\" y=\"-151.9518\" font-family=\"Times,serif\" font-size=\"14.00\" fill=\"#000000\">0.66667</text>\n",
       "</g>\n",
       "<!-- Sunny -->\n",
       "<g id=\"node2\" class=\"node\">\n",
       "<title>Sunny</title>\n",
       "<ellipse fill=\"none\" stroke=\"#000000\" cx=\"35.3553\" cy=\"-35.3553\" rx=\"35.2113\" ry=\"35.2113\"/>\n",
       "<text text-anchor=\"middle\" x=\"35.3553\" y=\"-31.6553\" font-family=\"Times,serif\" font-size=\"14.00\" fill=\"#000000\">Sunny</text>\n",
       "</g>\n",
       "<!-- Rainy&#45;&gt;Sunny -->\n",
       "<g id=\"edge2\" class=\"edge\">\n",
       "<title>Rainy&#45;&gt;Sunny</title>\n",
       "<path fill=\"none\" stroke=\"#000000\" d=\"M14.2479,-128.7587C9.381,-121.0861 4.8911,-112.4305 2.3553,-103.7107 -.8607,-92.6516 1.9655,-81.1766 7.0831,-70.8586\"/>\n",
       "<polygon fill=\"#000000\" stroke=\"#000000\" points=\"10.1495,-72.5469 12.0759,-62.1286 4.073,-69.0716 10.1495,-72.5469\"/>\n",
       "<text text-anchor=\"middle\" x=\"24.8553\" y=\"-92.5107\" font-family=\"Times,serif\" font-size=\"14.00\" fill=\"#000000\">0.33333</text>\n",
       "</g>\n",
       "<!-- Sunny&#45;&gt;Rainy -->\n",
       "<g id=\"edge3\" class=\"edge\">\n",
       "<title>Sunny&#45;&gt;Rainy</title>\n",
       "<path fill=\"none\" stroke=\"#000000\" d=\"M45.2311,-69.3117C47.3612,-80.2526 48.6383,-92.4578 47.3553,-103.7107 47.0261,-106.5986 46.597,-109.5598 46.0975,-112.5326\"/>\n",
       "<polygon fill=\"#000000\" stroke=\"#000000\" points=\"42.6137,-112.1164 44.1711,-122.5961 49.4889,-113.4325 42.6137,-112.1164\"/>\n",
       "<text text-anchor=\"middle\" x=\"69.8553\" y=\"-92.5107\" font-family=\"Times,serif\" font-size=\"14.00\" fill=\"#000000\">0.66667</text>\n",
       "</g>\n",
       "<!-- Sunny&#45;&gt;Sunny -->\n",
       "<g id=\"edge4\" class=\"edge\">\n",
       "<title>Sunny&#45;&gt;Sunny</title>\n",
       "<path fill=\"none\" stroke=\"#000000\" d=\"M68.9625,-46.6047C79.9565,-46.5465 88.7107,-42.7967 88.7107,-35.3553 88.7107,-30.4719 84.9406,-27.1783 79.2415,-25.4746\"/>\n",
       "<polygon fill=\"#000000\" stroke=\"#000000\" points=\"79.337,-21.9565 68.9625,-24.106 78.4131,-28.8953 79.337,-21.9565\"/>\n",
       "<text text-anchor=\"middle\" x=\"111.2107\" y=\"-31.6553\" font-family=\"Times,serif\" font-size=\"14.00\" fill=\"#000000\">0.33333</text>\n",
       "</g>\n",
       "</g>\n",
       "</svg>\n"
      ],
      "text/plain": [
       "<graphviz.dot.Digraph at 0x7fbe381a5ac8>"
      ]
     },
     "metadata": {},
     "output_type": "display_data"
    },
    {
     "name": "stdout",
     "output_type": "stream",
     "text": [
      "====================\n"
     ]
    }
   ],
   "source": [
    "T_s = T\n",
    "for i in range(5):\n",
    "    T_s = T_s@T\n",
    "    print('T^{}'.format(i + 2))\n",
    "    display(digraph_from_numpy_array(T_s, labels=['Rainy', 'Sunny'], edge_fmt='{:.5f}'))\n",
    "    print('='*20)"
   ]
  }
 ],
 "metadata": {
  "kernelspec": {
   "display_name": "Python 3",
   "language": "python",
   "name": "python3"
  },
  "language_info": {
   "codemirror_mode": {
    "name": "ipython",
    "version": 3
   },
   "file_extension": ".py",
   "mimetype": "text/x-python",
   "name": "python",
   "nbconvert_exporter": "python",
   "pygments_lexer": "ipython3",
   "version": "3.6.1"
  },
  "latex_envs": {
   "LaTeX_envs_menu_present": true,
   "autocomplete": true,
   "bibliofile": "biblio.bib",
   "cite_by": "apalike",
   "current_citInitial": 1,
   "eqLabelWithNumbers": true,
   "eqNumInitial": 1,
   "hotkeys": {
    "equation": "Ctrl-E",
    "itemize": "Ctrl-I"
   },
   "labels_anchors": false,
   "latex_user_defs": false,
   "report_style_numbering": false,
   "user_envs_cfg": false
  },
  "toc": {
   "nav_menu": {},
   "number_sections": true,
   "sideBar": true,
   "skip_h1_title": false,
   "toc_cell": false,
   "toc_position": {},
   "toc_section_display": "block",
   "toc_window_display": false
  },
  "varInspector": {
   "cols": {
    "lenName": 16,
    "lenType": 16,
    "lenVar": 40
   },
   "kernels_config": {
    "python": {
     "delete_cmd_postfix": "",
     "delete_cmd_prefix": "del ",
     "library": "var_list.py",
     "varRefreshCmd": "print(var_dic_list())"
    },
    "r": {
     "delete_cmd_postfix": ") ",
     "delete_cmd_prefix": "rm(",
     "library": "var_list.r",
     "varRefreshCmd": "cat(var_dic_list()) "
    }
   },
   "types_to_exclude": [
    "module",
    "function",
    "builtin_function_or_method",
    "instance",
    "_Feature"
   ],
   "window_display": false
  }
 },
 "nbformat": 4,
 "nbformat_minor": 2
}
