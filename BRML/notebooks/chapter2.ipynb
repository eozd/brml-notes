{
 "cells": [
  {
   "cell_type": "markdown",
   "metadata": {},
   "source": [
    "## Graphs"
   ]
  },
  {
   "cell_type": "code",
   "execution_count": 2,
   "metadata": {},
   "outputs": [],
   "source": [
    "import numpy as np"
   ]
  },
  {
   "cell_type": "markdown",
   "metadata": {},
   "source": [
    "### Definitions\n",
    "\n",
    "#### Path\n",
    "* $A \\rightarrow B \\iff \\text{There is a path from A to B}$\n",
    "\n",
    "#### Ancestor and Descendant\n",
    "* The nodes $A$ such that $A \\rightarrow B$ and $B \\nrightarrow A$ are the **ancestors** of B.\n",
    "* The nodes $A$ such that $A \\nrightarrow B$ and $B \\rightarrow A$ are the **descendants** of B.\n",
    "\n",
    "#### DAG\n",
    "* Graph $G$ is a DAG $\\iff \\forall A,B \\in G, \\big [ A \\rightarrow B \\iff (\\text{A is an ancestor of B}) \\land (\\text{B is a descendant of A}) \\big ]$\n",
    "\n",
    "#### Family and Markov Blanket\n",
    "* The **family** of a node is\n",
    "  1. itself\n",
    "  2. its parents\n",
    "* The **Markov blanket** of a node is\n",
    "  1. its parents\n",
    "  2. its children\n",
    "  3. parents of its children (**excluding itself**)\n",
    "  \n",
    "#### Clique\n",
    "* Given an undirected graph, a **clique** is a fully connected subset of nodes. All the members of the clique are neighbors.\n",
    "  * A graph is **fully connected (complete)** iff each pair of vertices is connected by an edge.\n",
    "* For a maximal clique, there is no larger clique that contains the clique.\n",
    "\n",
    "#### Singly Connected Graph (Tree)\n",
    "* A graph is singly connected if there is only one path from any node $A$ to any node $B$."
   ]
  },
  {
   "cell_type": "markdown",
   "metadata": {},
   "source": [
    "### Adjacency Matrix of a Directed Graph\n",
    "If the nodes are labelled in ancestral (topological) order, then the corresponding adjacency matrix is upper triangular.\n",
    "  * Consider a row of the adjacency matrix. Since the nodes are labelled in topological order, all the nodes that receive an edge from the current node are listed below the current node. Hence, their indices must be greater than the current index. Then, each nonzero element in the current row must be after the diagonal entry. Since all nonzero entries on each row must come after the diagonal entry of that row, the resulting adjacency matrix must be upper-triangular. "
   ]
  },
  {
   "cell_type": "markdown",
   "metadata": {},
   "source": [
    "### Adjacency Matrix Powers\n",
    "For an unweighted $N \\times N$ adjacency matrix $A$, $\\big[A^k_{ij}\\big]$ specify how many paths there are from node $i$ to node $j$ in $k$ hops.\n",
    "\n",
    "This is related to Markov Chains and state transitions. Assume a person is standing at each node and that if a node contains multiple outgoing edges, this person gets cloned and goes to all the target nodes. Then, start from a single node and make state transitions. $k^{th}$ state corresponds to the row of the starting node in $A^k$."
   ]
  },
  {
   "cell_type": "code",
   "execution_count": 3,
   "metadata": {},
   "outputs": [],
   "source": [
    "x = np.array([[0, 1, 0, 0],\n",
    "              [0, 0, 1, 0],\n",
    "              [0, 0, 0, 1],\n",
    "              [0, 1, 0, 1]])"
   ]
  },
  {
   "cell_type": "code",
   "execution_count": 4,
   "metadata": {},
   "outputs": [
    {
     "data": {
      "text/plain": [
       "array([[0, 1, 0, 0],\n",
       "       [0, 0, 1, 0],\n",
       "       [0, 0, 0, 1],\n",
       "       [0, 1, 0, 1]])"
      ]
     },
     "execution_count": 4,
     "metadata": {},
     "output_type": "execute_result"
    }
   ],
   "source": [
    "x"
   ]
  },
  {
   "cell_type": "code",
   "execution_count": 5,
   "metadata": {},
   "outputs": [
    {
     "data": {
      "text/plain": [
       "array([[0, 0, 1, 0],\n",
       "       [0, 0, 0, 1],\n",
       "       [0, 1, 0, 1],\n",
       "       [0, 1, 1, 1]])"
      ]
     },
     "execution_count": 5,
     "metadata": {},
     "output_type": "execute_result"
    }
   ],
   "source": [
    "x@x"
   ]
  },
  {
   "cell_type": "code",
   "execution_count": 6,
   "metadata": {},
   "outputs": [
    {
     "data": {
      "text/plain": [
       "array([[0, 0, 0, 1],\n",
       "       [0, 1, 0, 1],\n",
       "       [0, 1, 1, 1],\n",
       "       [0, 1, 1, 2]])"
      ]
     },
     "execution_count": 6,
     "metadata": {},
     "output_type": "execute_result"
    }
   ],
   "source": [
    "x@x@x"
   ]
  },
  {
   "cell_type": "markdown",
   "metadata": {},
   "source": [
    "Persons get cloned because the column sums of the adjacency matrix were not equal to 1. If we adjust the columns to get summed to 1, then column sums of $A^k$ are always 1, for $k \\in \\mathbb{Z}^+$, and nobody gets cloned. They get split up, or rather, be in certain nodes with certain probabilities."
   ]
  },
  {
   "cell_type": "code",
   "execution_count": 7,
   "metadata": {},
   "outputs": [],
   "source": [
    "x = np.array([[0, 0.6, 0, 0],\n",
    "              [0, 0, 1, 0],\n",
    "              [1, 0, 0, 0.2],\n",
    "              [0, 0.4, 0, 0.8]])"
   ]
  },
  {
   "cell_type": "code",
   "execution_count": 8,
   "metadata": {},
   "outputs": [
    {
     "data": {
      "text/plain": [
       "array([[ 0. ,  0.6,  0. ,  0. ],\n",
       "       [ 0. ,  0. ,  1. ,  0. ],\n",
       "       [ 1. ,  0. ,  0. ,  0.2],\n",
       "       [ 0. ,  0.4,  0. ,  0.8]])"
      ]
     },
     "execution_count": 8,
     "metadata": {},
     "output_type": "execute_result"
    }
   ],
   "source": [
    "x"
   ]
  },
  {
   "cell_type": "code",
   "execution_count": 9,
   "metadata": {},
   "outputs": [
    {
     "data": {
      "text/plain": [
       "array([[ 0.  ,  0.  ,  0.6 ,  0.  ],\n",
       "       [ 1.  ,  0.  ,  0.  ,  0.2 ],\n",
       "       [ 0.  ,  0.68,  0.  ,  0.16],\n",
       "       [ 0.  ,  0.32,  0.4 ,  0.64]])"
      ]
     },
     "execution_count": 9,
     "metadata": {},
     "output_type": "execute_result"
    }
   ],
   "source": [
    "x@x"
   ]
  },
  {
   "cell_type": "code",
   "execution_count": 10,
   "metadata": {},
   "outputs": [
    {
     "data": {
      "text/plain": [
       "array([[ 0.6  ,  0.   ,  0.   ,  0.12 ],\n",
       "       [ 0.   ,  0.68 ,  0.   ,  0.16 ],\n",
       "       [ 0.   ,  0.064,  0.68 ,  0.128],\n",
       "       [ 0.4  ,  0.256,  0.32 ,  0.592]])"
      ]
     },
     "execution_count": 10,
     "metadata": {},
     "output_type": "execute_result"
    }
   ],
   "source": [
    "x@x@x"
   ]
  },
  {
   "cell_type": "markdown",
   "metadata": {},
   "source": [
    "### Incidence Matrix\n",
    "For an undirected graph with $N$ nodes and two-node cliques $C_1, \\dots, C_M$, an incidence matrix is an $N \\times M$ matrix in which each column $c_k$ has zeros except for ones on entries describing the $k^{th}$ two-node clique.\n",
    "\n",
    "$C_{inc}C_{inc}^T$ is equal to the adjacency matrix except that the diagonals contain the degree of each node."
   ]
  }
 ],
 "metadata": {
  "kernelspec": {
   "display_name": "Python 3",
   "language": "python",
   "name": "python3"
  },
  "language_info": {
   "codemirror_mode": {
    "name": "ipython",
    "version": 3
   },
   "file_extension": ".py",
   "mimetype": "text/x-python",
   "name": "python",
   "nbconvert_exporter": "python",
   "pygments_lexer": "ipython3",
   "version": "3.6.1"
  },
  "latex_envs": {
   "LaTeX_envs_menu_present": true,
   "autocomplete": true,
   "bibliofile": "biblio.bib",
   "cite_by": "apalike",
   "current_citInitial": 1,
   "eqLabelWithNumbers": true,
   "eqNumInitial": 1,
   "hotkeys": {
    "equation": "Ctrl-E",
    "itemize": "Ctrl-I"
   },
   "labels_anchors": false,
   "latex_user_defs": false,
   "report_style_numbering": false,
   "user_envs_cfg": false
  },
  "toc": {
   "nav_menu": {},
   "number_sections": true,
   "sideBar": true,
   "skip_h1_title": false,
   "toc_cell": false,
   "toc_position": {},
   "toc_section_display": "block",
   "toc_window_display": false
  },
  "varInspector": {
   "cols": {
    "lenName": 16,
    "lenType": 16,
    "lenVar": 40
   },
   "kernels_config": {
    "python": {
     "delete_cmd_postfix": "",
     "delete_cmd_prefix": "del ",
     "library": "var_list.py",
     "varRefreshCmd": "print(var_dic_list())"
    },
    "r": {
     "delete_cmd_postfix": ") ",
     "delete_cmd_prefix": "rm(",
     "library": "var_list.r",
     "varRefreshCmd": "cat(var_dic_list()) "
    }
   },
   "types_to_exclude": [
    "module",
    "function",
    "builtin_function_or_method",
    "instance",
    "_Feature"
   ],
   "window_display": false
  }
 },
 "nbformat": 4,
 "nbformat_minor": 2
}
