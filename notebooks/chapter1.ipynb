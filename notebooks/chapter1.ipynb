{
 "cells": [
  {
   "cell_type": "markdown",
   "metadata": {},
   "source": [
    "## Reminders"
   ]
  },
  {
   "cell_type": "markdown",
   "metadata": {},
   "source": [
    "### Conditional Probability\n",
    "\n",
    "$$\n",
    "p(x \\mid y) = \\frac{p(x, y)}{p(y)}\n",
    "$$"
   ]
  },
  {
   "cell_type": "markdown",
   "metadata": {},
   "source": [
    "### Bayes' Rule\n",
    "\n",
    "$\n",
    "\\begin{align}\n",
    "p(x \\mid y) &= \\frac{p(y \\mid x)p(x)}{p(y)} \\\\\n",
    "            &= \\frac{p(y \\mid x)p(x)}{\\int_x p(y \\mid x)p(x)}\n",
    "\\end{align}\n",
    "$\n",
    "\n",
    "Posterior, likelihood and prior:\n",
    "\n",
    "$\n",
    "Posterior = \\frac{Likelihood \\cdot Prior}{Normalizer}\n",
    "$"
   ]
  },
  {
   "cell_type": "markdown",
   "metadata": {},
   "source": [
    "### Frequentist Perspective on Probability\n",
    "If we were to repeat the same experiment many times, in the limit, the frequency of the event would approach the given probability."
   ]
  },
  {
   "cell_type": "markdown",
   "metadata": {},
   "source": [
    "### Bayesian Perspective on Probability\n",
    "Probability is a reasonable guess based on our degree of belief about the environment."
   ]
  },
  {
   "cell_type": "markdown",
   "metadata": {},
   "source": [
    "### Independence\n",
    "$$\n",
    "\\text{x and y are independent} \\iff p(x, y) = kf(x)g(y)\n",
    "$$"
   ]
  },
  {
   "cell_type": "markdown",
   "metadata": {},
   "source": [
    "### Conditional Independence"
   ]
  },
  {
   "cell_type": "markdown",
   "metadata": {},
   "source": [
    "$$\n",
    "X \\ci Y \\mid Z\n",
    "$$\n",
    "\n",
    "denotes that random variables $X$ and $Y$ are independent provided that we know the state of $Z$.\n",
    "\n",
    "$$\n",
    "X \\ci Y \\mid Z \\iff p(X, Y \\mid Z) = p(X \\mid Z)p(Y \\mid Z)\n",
    "$$\n",
    "\n",
    "1. If $Z = \\varnothing$, then $X$ and $Y$ are (unconditionally) independent.\n",
    "2. It may be the case that $X$ and $Y$ are not independent, but $X$ and $Y$ are conditionally independent given $Z$.\n",
    "\n",
    "See https://www.eecs.qmul.ac.uk/~norman/BBNs/Independence_and_conditional_independence.htm for examples on conditional independence."
   ]
  }
 ],
 "metadata": {
  "kernelspec": {
   "display_name": "Python 3",
   "language": "python",
   "name": "python3"
  },
  "language_info": {
   "codemirror_mode": {
    "name": "ipython",
    "version": 3
   },
   "file_extension": ".py",
   "mimetype": "text/x-python",
   "name": "python",
   "nbconvert_exporter": "python",
   "pygments_lexer": "ipython3",
   "version": "3.6.1"
  },
  "latex_envs": {
   "LaTeX_envs_menu_present": true,
   "autocomplete": false,
   "bibliofile": "biblio.bib",
   "cite_by": "apalike",
   "current_citInitial": 1,
   "eqLabelWithNumbers": true,
   "eqNumInitial": 1,
   "hotkeys": {
    "equation": "Ctrl-E",
    "itemize": "Ctrl-I"
   },
   "labels_anchors": false,
   "latex_user_defs": true,
   "report_style_numbering": false,
   "user_envs_cfg": false
  },
  "toc": {
   "nav_menu": {
    "height": "417px",
    "width": "535px"
   },
   "number_sections": true,
   "sideBar": true,
   "skip_h1_title": false,
   "toc_cell": false,
   "toc_position": {},
   "toc_section_display": "block",
   "toc_window_display": false
  },
  "varInspector": {
   "cols": {
    "lenName": 16,
    "lenType": 16,
    "lenVar": 40
   },
   "kernels_config": {
    "python": {
     "delete_cmd_postfix": "",
     "delete_cmd_prefix": "del ",
     "library": "var_list.py",
     "varRefreshCmd": "print(var_dic_list())"
    },
    "r": {
     "delete_cmd_postfix": ") ",
     "delete_cmd_prefix": "rm(",
     "library": "var_list.r",
     "varRefreshCmd": "cat(var_dic_list()) "
    }
   },
   "types_to_exclude": [
    "module",
    "function",
    "builtin_function_or_method",
    "instance",
    "_Feature"
   ],
   "window_display": false
  }
 },
 "nbformat": 4,
 "nbformat_minor": 2
}
