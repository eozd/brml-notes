{
 "cells": [
  {
   "cell_type": "markdown",
   "metadata": {},
   "source": [
    "## Solving Problems by Searching"
   ]
  },
  {
   "cell_type": "markdown",
   "metadata": {},
   "source": [
    "### Problem-Solving Agents\n",
    "A goal-based agent that uses atomic state representations.\n",
    "\n",
    "Goals help organize behavior by limiting the objectives the agent tries to achieve and hence the actions it needs to consider. \n",
    "\n",
    "1. **Goal formulation**, based on the current state and the agent's performance measure, is the first step in problem solving.\n",
    "2. **Problem formulation** is the process of deciding what actions and states to consider, given a goal.\n",
    "\n",
    "In general, _an agent with several immediate options of unknown value can decide what to do by first examining future actions that eventually lead to states of known value_.\n",
    "\n",
    "If the environment is **observable**, **discrete**, **known** and **deterministic**, then any solution to a problem is a fixed sequence of actions.\n",
    "\n",
    "#### Search\n",
    "The process of looking for a sequence of actions that reaches the goal is called **search**. A search algorithm takes a problem as input and returns a solution in the form of an action sequence.\n",
    "\n",
    "Hence, for problem-solving agents, the design is \"formulate-search-execute\".\n",
    "\n",
    "#### Open-loop\n",
    "While the agent is executing its solution, it _ignores its percepts_ when choosing an action because it knows in advance what they will be. This is called an **open-loop** system because ignoring the percepts breaks the loop between agent and environment."
   ]
  },
  {
   "cell_type": "markdown",
   "metadata": {},
   "source": [
    "### Well-defined Problems\n",
    "A problem is defined with five components:\n",
    "\n",
    "1. **Initial state:** is the state the agent starts in.\n",
    "2. **Possible actions:** For a state $s$, $ACTIONS(s)$ is the set of possible actions the agent can take when it is in state $s$.\n",
    "3. **Transition model:** is the description of what each action does; $RESULT(s, a)$ returns a new state from state $s$ and action $a$.\n",
    "  * (1), (2) and (3) together form the **state space** of the problem.\n",
    "4. **Goal test:** determine whether a given state $s$ is a goal state.\n",
    "5. **Path cost:** cost of each path. Cost function is chosen to reflect the performance measure of the agent."
   ]
  },
  {
   "cell_type": "markdown",
   "metadata": {},
   "source": [
    "### Searching for Solutions\n",
    "Searching form a searh tree with nodes as states, branches as actions, and the initial state as the root of the tree.\n",
    "\n",
    "* **expanding a state:** applying each legal action to the state, thereby generating a new set of states. Each expanded node is added as a child of the current expanded state.\n",
    "\n",
    "Then the question is, which state to pick?\n",
    "\n",
    "#### Performance Evaluation\n",
    "* **Completeness:** Is the algorithm guaranteed to find a solution it exists?\n",
    "* **Optimality:** Is the found solution have the least path cost?\n",
    "* **Time complexity**\n",
    "* **Space complexity**\n",
    "\n",
    "In AI, since the graph is frequently infinite and not explicity stated, complexity is measuder using three quantities:\n",
    "1. **branching (b):** branching factor of the search tree\n",
    "2. **depth (d):** depth of the shallowest goal\n",
    "3. **max depth(m):** max length of any path in the state space"
   ]
  },
  {
   "cell_type": "markdown",
   "metadata": {},
   "source": [
    "### Uninformed Search Strategies\n",
    "Uninformed means the strategies have no additional information about states other than the information provided in the problem description. These strategies don't know if a node is \"more promising\" than another node (the ones that do are called informed strategies). The main difference between uninformed search strategies is the order of node expansion, which affects their performance metrics."
   ]
  },
  {
   "cell_type": "markdown",
   "metadata": {},
   "source": [
    "#### Breadth-First Search\n",
    "All the nodes are expanded at a given depth in the search tree before any nodes in the next level are expanded.\n",
    "\n",
    "##### Performance Metrics\n",
    "1. Complete if $b$ is finite\n",
    "2. Optimal, if all path costs are equal.\n",
    "3. $W(b, d) \\in O(b^d)$\n",
    "  * If the algorithm were to apply the goal test to nodes when selected for expansion, rather than when generated, the whole layer of nodes at depth $d$ would be expanded before the goal is detected and the time complexity would be $O(b^{d+1})$.\n",
    "4. $W(b, d) \\in O(b^d)$\n",
    "  * All leaf nodes (**frontier**) are stored in memory. There are $b^d$ nodes at depth $d$.\n",
    "  \n",
    "##### Lessons\n",
    "1. Memory requirements for BFS is a very big problem.\n",
    "2. In general, _exponential-complextiy search problems cannot be solved by uninformed methods for any but the smallest instances._"
   ]
  },
  {
   "cell_type": "markdown",
   "metadata": {},
   "source": [
    "#### Uniform-Cost Search\n",
    "BFS is optimal when all path costs are equal. What happens if the costs are different?\n",
    "\n",
    "Uniform-cost search finds the optimal solution on a search tree with different path costs by **first expanding the node with the smallest path cost from the current node**. This is done by storing the frontier in a priority queue.\n",
    "\n",
    "##### Differences from BFS\n",
    "1. Goal test is applied when a node is expanded, rather than when it is generated, because the node that is generated may not be the optimal one.\n",
    "2. A test is added that checks if there is a better path to a node currently in the frontier.\n",
    "\n",
    "##### Observations\n",
    "1. Whenever a node is expanded, the optimal path to that node is found.\n",
    "2. Since the costs are never negative, uniform cost search expands the nodes in order of their optimal path cost.\n",
    "  * That is, if the expansion order is $n_2, n_1, n_3$, then $C(n_2) \\leq C(n_1) \\leq C(n_3)$.\n",
    "3. If there is an infinite path with $0$ path costs, uniform-cost search will never terminate!\n",
    "\n",
    "##### Performance Metrics\n",
    "1. Complete, if the minimum path cost is $\\epsilon > 0$ and $b$ is finite.\n",
    "2. Optimal\n",
    "3. $W \\in O(b^{1 + \\lfloor C^*/\\epsilon \\rfloor})$\n",
    "  * If $\\epsilon$ is really small, than this complexity is terrible!\n",
    "  * When all step costs are equal, $W \\in O(b^{d + 1})$\n",
    "4. $W \\in O(b^{1 + \\lfloor C^*/\\epsilon \\rfloor})$ space complexity (same as BFS; keep all the frontier in the memory)"
   ]
  },
  {
   "cell_type": "markdown",
   "metadata": {},
   "source": [
    "#### Depth-First Search\n",
    "\n",
    "##### Performance Metrics\n",
    "1. Incomplete if the search tree is infinite\n",
    "2. Non-optimal\n",
    "3. $W \\in O(b^m)$ time complexity\n",
    "4. $W \\in O(bm)$ space complexity\n",
    "  * $m$ nodes are on the path from the root to the current node in the worst case\n",
    "  * $b$ nodes are expanded for each of those nodes in the worst case\n",
    "\n",
    "A variant of dfs called **backtracking search** only remembers the parent of the current node, and thus has $O(m)$ space complexity."
   ]
  },
  {
   "cell_type": "markdown",
   "metadata": {},
   "source": [
    "#### Depth-Limited Search\n",
    "DFS with a maximum depth $l$. If the depth of the current node is $l$, then don't expand it and treat it as a leaf node.\n",
    "\n",
    "##### Performance Metrics\n",
    "1. Incomplete\n",
    "2. Nonoptimal\n",
    "3. $W \\in O(b^l)$ time complexity\n",
    "4. $W \\in O(bl)$ space complexity\n",
    "\n",
    "Not knowing $l$ beforehand is a problem; however, if you have problem-specific knowledge, then choosing a good $l$ parameter may be an option."
   ]
  },
  {
   "cell_type": "markdown",
   "metadata": {},
   "source": [
    "#### Iterative Deepening DFS\n",
    "Gradually increase the limit $l$ to be used with depth-limited search.\n",
    "\n",
    "##### Performance Metrics\n",
    "1. Complete if b is finite\n",
    "2. Optimal if step costs are identical\n",
    "3. $W \\in O(b^d)$ time complexity\n",
    "  * Expanding upper levels multiple times is not important asymptotically since most of the nodes in a search tree is at the bottom\n",
    "4. $W \\in O(bd)$ space complexity\n",
    "\n",
    "---\n",
    "\n",
    "In general, iterative deepening DFS is the preferred uninformed search method when the search space is large and the depth of goal is unknown.\n",
    "\n",
    "##### Lessons\n",
    "1. Iterative deepening DFS is analogous to BFS in that it completely explores all the nodes at a level before going to the next level."
   ]
  },
  {
   "cell_type": "markdown",
   "metadata": {},
   "source": [
    "### Informed Search Strategies (Heuristics)\n",
    "**Best-first search** is an instance of graph search in which the node with the lowest **evaluation function** $f(n)$ value is selected for expansion.\n",
    "\n",
    "#### Heuristic\n",
    "A heuristic $h(n)$ is the estimated cost of the cheapest path from the current state to the goal state. Heuristic functions allow us to incorporate problem specific knowledge into the search algorithm."
   ]
  },
  {
   "cell_type": "markdown",
   "metadata": {},
   "source": [
    "#### Greedy best-first search\n",
    "* $f(n) = h(n)$\n",
    "* Incomplete and non-optimal."
   ]
  },
  {
   "cell_type": "markdown",
   "metadata": {},
   "source": [
    "#### A* Search\n",
    "* $f(n) = g(n) + h(n)$ where\n",
    "  * $g(n)$ is the path cost to reach node $n$ from the start node,\n",
    "  * $h(n)$ is the estimated cost to reach the goal node from node $n$.\n",
    "  \n",
    "* $f(n)$ is the estimated cost of the cheapest solution passing through node $n$.\n",
    "\n",
    "#### A* Search Optimality Conditions\n",
    "\n",
    "##### Admissible Heuristic\n",
    "$h(n)$ should never overestimate the actual cost to reach the goal state from node $n$. Hence, $f(n)$ should never overestimate the actual cost of reaching the goal state from the initial state passing through node $n$.\n",
    "\n",
    "##### Consistent Heuristic (Monotonicity)\n",
    "$h(n)$ is consistent if for any node $n$ and one of its successors $n'$,\n",
    "$$\n",
    "h(n) \\leq c(n, a, n') + h(n').\n",
    "$$\n",
    "If there were a route from $n$ to $G_n$ via $n'$, that would violate the definition of $h(n)$ which is a lower bound of the cost from $n$ to $G_n$.\n",
    "\n",
    "* **Every consistent heuristic is also admissible**.\n",
    "\n",
    "##### A* is Optimal if Heuristic is Consistent\n",
    "* If $h(n)$ is consistent, then the values of $f(n)$ along any path is nondecreasing.\n",
    "* Whenever A* selects a node for expansion, the optimal path to that node has been found.\n",
    "* Hence, the first goal node expanded by A* must be the optimal goal state.\n",
    "\n",
    "* If $C*$ is the cost of the optimal solution path, then\n",
    "  * A* expands all nodes with $f(n) < C^*$,\n",
    "  * A* may expand some node with $f(n) = C^*$ just before expanding the optimal goal node\n",
    "  * Since heuristic $h(n)$ is admissible, there is no need to expand any node with $f(n) > C^*$. Hence, A* expands no nodes with $f(n) > C^*$.\n",
    "  \n",
    "#### A* Properties\n",
    "* Complete\n",
    "* Optimal\n",
    "* Optimally efficient\n",
    "* Time complexity is exponential\n",
    "* **Keeps all nodes in memory**\n",
    "  * Iterative-deepening A*\n",
    "  * Recursive best-first search\n",
    "  * Memory-bounded A* ($MA^*$)\n",
    "  * Simplified memory-bounded A* ($SMA^*$)\n",
    "\n",
    "\n",
    "* However, since it expands all nodes with $f(n) < C^*$, it may not be efficient on certain problems if the number of nodes with $f(n) < C^*$ is still exponential."
   ]
  },
  {
   "cell_type": "markdown",
   "metadata": {},
   "source": [
    "### Heuristic Functions\n",
    "If the total number of nodes generated by A* for a problem is $N$ and the solution depth is $d$, then $b^*$ is the branching factor is\n",
    "$$\n",
    "N + 1 = 1 + b^* + (b^*)^2 + \\dots + (b^*)^d\n",
    "$$\n",
    "\n",
    "$b^*$ is the branching factor of a uniform tree with depth $d$ and number of nodes $N+1$. A well-designed heuristic would have a value of $b^*$ close to $1$."
   ]
  },
  {
   "cell_type": "markdown",
   "metadata": {},
   "source": [
    "#### Domination\n",
    "For any heuristics $h_1$ and $h_2$, $h_2$ **dominates** $h_1$ if $h_2(n) \\geq h_1(n)$ for any $n$.\n",
    "\n",
    "Using larger heuristic values is better for search (higher lower bounds direct the agent better in the search space).\n",
    "\n",
    "* Given any two admissible heuristics $h_1, h_2, \\quad$ $max(h_1, h_2)$ is also an admissible heuristic that dominates both $h_1$ and $h_2$.\n",
    "* If $h_2$ dominates $h_1$ for a particular problem, then every node expanded by A* using $h_2$ is also expanded by A* using $h_1$."
   ]
  },
  {
   "cell_type": "markdown",
   "metadata": {},
   "source": [
    "#### Coming Up with Heuristics\n",
    "**The cost of an optimal solution to a relaxed problem is an admissible heuristic for the original problem.** Moreover, because the derived heuristic is an exact cost for the relaxed problem, it is consistent."
   ]
  }
 ],
 "metadata": {
  "kernelspec": {
   "display_name": "Python 3",
   "language": "python",
   "name": "python3"
  },
  "language_info": {
   "codemirror_mode": {
    "name": "ipython",
    "version": 3
   },
   "file_extension": ".py",
   "mimetype": "text/x-python",
   "name": "python",
   "nbconvert_exporter": "python",
   "pygments_lexer": "ipython3",
   "version": "3.6.1"
  },
  "toc": {
   "nav_menu": {},
   "number_sections": true,
   "sideBar": true,
   "skip_h1_title": false,
   "toc_cell": false,
   "toc_position": {},
   "toc_section_display": "block",
   "toc_window_display": false
  },
  "varInspector": {
   "cols": {
    "lenName": 16,
    "lenType": 16,
    "lenVar": 40
   },
   "kernels_config": {
    "python": {
     "delete_cmd_postfix": "",
     "delete_cmd_prefix": "del ",
     "library": "var_list.py",
     "varRefreshCmd": "print(var_dic_list())"
    },
    "r": {
     "delete_cmd_postfix": ") ",
     "delete_cmd_prefix": "rm(",
     "library": "var_list.r",
     "varRefreshCmd": "cat(var_dic_list()) "
    }
   },
   "types_to_exclude": [
    "module",
    "function",
    "builtin_function_or_method",
    "instance",
    "_Feature"
   ],
   "window_display": false
  }
 },
 "nbformat": 4,
 "nbformat_minor": 2
}
